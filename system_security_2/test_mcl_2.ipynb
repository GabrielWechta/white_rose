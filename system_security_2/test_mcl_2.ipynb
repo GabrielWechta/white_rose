{
 "cells": [
  {
   "cell_type": "code",
   "execution_count": 2,
   "metadata": {},
   "outputs": [],
   "source": [
    "import sys\n",
    "sys.path.insert (1 , '/home/gabriel/opt/mcl-python')"
   ]
  },
  {
   "cell_type": "code",
   "execution_count": 3,
   "metadata": {},
   "outputs": [],
   "source": [
    "from mcl import GT\n",
    "from mcl import G2\n",
    "from mcl import G1\n",
    "from mcl import Fr"
   ]
  },
  {
   "cell_type": "code",
   "execution_count": 15,
   "metadata": {},
   "outputs": [
    {
     "name": "stdout",
     "output_type": "stream",
     "text": [
      "<class 'mcl.structures.Fr.Fr'> 38728718845903799913675964536965121207235186893175503565976696310465676411131\n",
      "<class 'mcl.structures.Fr.Fr'> 38800639405743936102612895642927726646644445040620498218830878574249088627362\n"
     ]
    }
   ],
   "source": [
    "a = Fr()\n",
    "b = Fr()\n",
    "a.setByCSPRNG()\n",
    "b.setByCSPRNG()\n",
    "print(a)\n",
    "print(b)"
   ]
  },
  {
   "cell_type": "code",
   "execution_count": 17,
   "metadata": {},
   "outputs": [
    {
     "name": "stdout",
     "output_type": "stream",
     "text": [
      "<class 'mcl.structures.Fr.Fr'> 2\n",
      "<class 'mcl.structures.Fr.Fr'> 3\n"
     ]
    }
   ],
   "source": [
    "a.setInt(2)\n",
    "b.setInt(3)\n",
    "print(a)\n",
    "print(b)"
   ]
  },
  {
   "cell_type": "code",
   "execution_count": 22,
   "metadata": {},
   "outputs": [
    {
     "name": "stdout",
     "output_type": "stream",
     "text": [
      "<class 'mcl.structures.G1.G1'> 1 1089971266139728730233811647107655084685858958298682199519721638892106301891054615421021823549030626570317937500986 3615457621294077867388884132155133174060192007624869322950830012854562183226511084756837767855906491975340816496317\n",
      "<class 'mcl.structures.G1.G1'> 1 2939446665634917382635688719836359575344574703049411339102856096263109363734704502686732180852643303938109815176861 2572413625429894827641203910959710157278688866509570667708256593688245993363404459188829208357908859769498482455098\n"
     ]
    }
   ],
   "source": [
    "g1 = G1.hashAndMapTo(b\"abcd\")\n",
    "g2 = G1.hashAndMapTo(b\"efgh\")\n",
    "print(g1)\n",
    "print(g2)"
   ]
  },
  {
   "cell_type": "code",
   "execution_count": 24,
   "metadata": {},
   "outputs": [
    {
     "name": "stdout",
     "output_type": "stream",
     "text": [
      "True\n"
     ]
    }
   ],
   "source": [
    "mul_ass = True if g1 * a == g1 + g1 else False\n",
    "print(mul_ass)"
   ]
  },
  {
   "cell_type": "code",
   "execution_count": null,
   "metadata": {},
   "outputs": [],
   "source": []
  }
 ],
 "metadata": {
  "kernelspec": {
   "display_name": "Python 3",
   "language": "python",
   "name": "python3"
  },
  "language_info": {
   "codemirror_mode": {
    "name": "ipython",
    "version": 3
   },
   "file_extension": ".py",
   "mimetype": "text/x-python",
   "name": "python",
   "nbconvert_exporter": "python",
   "pygments_lexer": "ipython3",
   "version": "3.8.10"
  }
 },
 "nbformat": 4,
 "nbformat_minor": 4
}

{
 "cells": [
  {
   "cell_type": "code",
   "execution_count": 25,
   "metadata": {
    "collapsed": true
   },
   "outputs": [],
   "source": [
    "import math\n",
    "import random\n",
    "from string import punctuation\n",
    "from typing import List, Dict\n",
    "from nltk import PorterStemmer\n",
    "from collections import Counter\n",
    "from pprint import pprint\n",
    "import random\n",
    "\n",
    "\n",
    "def get_list_of_words_chapter(file_name: str) -> List[str]:\n",
    "    with open(file_name, encoding=\"UTF-8\") as f:\n",
    "        words = [word for line in f for word in line.split()]\n",
    "    return words\n",
    "\n",
    "\n",
    "with open(\"stopwords.txt\", encoding=\"UTF-8\") as f:\n",
    "    stopwords = [stopword.rstrip() for stopword in f]\n",
    "\n",
    "\n",
    "def small_normalize(words: List[str]) -> Dict[str, int]:\n",
    "    no_pun_words = [word.lower().translate(str.maketrans('', '', punctuation)) for word in words]\n",
    "    filtered_words = [w for w in no_pun_words if not w in stopwords and not len(w) == 0]\n",
    "    return filtered_words"
   ]
  },
  {
   "cell_type": "code",
   "execution_count": 28,
   "outputs": [
    {
     "name": "stdout",
     "output_type": "stream",
     "text": [
      "len(all_terms)=107608\n",
      "len(unique_terms)=13268\n"
     ]
    }
   ],
   "source": [
    "all_words = get_list_of_words_chapter(file_name=\"dune.txt\")\n",
    "all_terms = small_normalize(words=all_words)\n",
    "unique_terms = list(set(all_terms))\n",
    "print(f\"{len(all_terms)=}\")\n",
    "print(f\"{len(unique_terms)=}\")"
   ],
   "metadata": {
    "collapsed": false
   }
  },
  {
   "cell_type": "code",
   "execution_count": 29,
   "outputs": [],
   "source": [
    "curr_succ_dict = {}\n",
    "for word, succ in zip(all_terms, all_terms[1:]):\n",
    "    if word not in curr_succ_dict.keys():\n",
    "        curr_succ_dict[word] = []\n",
    "    curr_succ_dict[word].append(succ)\n",
    "# pprint(curr_succ_dict)"
   ],
   "metadata": {
    "collapsed": false
   }
  },
  {
   "cell_type": "code",
   "execution_count": 38,
   "outputs": [
    {
     "name": "stdout",
     "output_type": "stream",
     "text": [
      "{'paul': 41, 'jessica': 32, 'must': 30, 'voice': 26, 'thought': 25, 'know': 23, 'duke': 20, 'think': 20, 'theres': 19, 'well': 18, 'stilgar': 18, 'one': 17, 'thats': 17, 'would': 16, 'dont': 16, 'could': 16, 'ive': 15, 'fremen': 15, 'yes': 14, 'gurney': 14, 'looked': 14, 'glanced': 13, 'way': 12, 'may': 12, 'mother': 12, 'let': 12, 'theyre': 12, 'see': 12, 'youve': 11, 'ill': 11, 'im': 11, 'cannot': 11, 'arrakis': 10, 'father': 10, 'harkonnens': 10, 'baron': 10, 'heard': 9, 'hes': 9, 'perhaps': 9, 'turned': 9, 'get': 8, 'say': 8, 'man': 8, 'youre': 8, 'shall': 8, 'emperor': 8, 'good': 8, 'much': 8, 'yet': 8, 'water': 8, 'many': 8, 'speak': 8, 'weve': 8, 'sardaukar': 8, 'chani': 8, 'old': 7, 'something': 7, 'give': 7, 'hawat': 7, 'want': 7, 'isnt': 7, 'wish': 7, 'idaho': 7, 'kynes': 7, 'id': 7, 'took': 7, 'count': 7, 'take': 6, 'youll': 6, 'put': 6, 'always': 6, 'smiled': 6, 'saw': 6, 'men': 6, 'tell': 6, 'theyve': 6, 'understand': 6, 'still': 6, 'nodded': 6, 'lowered': 6, 'rabban': 6, 'muaddib': 6, 'feydrautha': 5, 'hope': 5, 'lets': 5, 'tried': 5, 'thing': 5, 'like': 5, 'two': 5, 'even': 5, 'mean': 5, 'true': 5, 'wait': 5, 'lord': 5, 'waved': 5, 'shouldnt': 5, 'felt': 5, 'desert': 5, 'brought': 5, 'stared': 5, 'gave': 5, 'time': 5, 'usul': 5, 'forced': 4, 'sent': 4, 'youd': 4, 'certain': 4, 'said': 4, 'meant': 4, 'things': 4, 'dead': 4, 'speaking': 4, 'called': 4, 'people': 4, 'thufir': 4, 'gestured': 4, 'couldnt': 4, 'thus': 4, 'halleck': 4, 'imperial': 4, 'carry': 4, 'theyll': 4, 'right': 4, 'sensed': 4, 'young': 4, 'bene': 4, 'watched': 4, 'show': 4, 'come': 4, 'released': 4, 'feel': 4, 'make': 4, 'leave': 4, 'jamis': 4, 'shes': 4, 'reverend': 3, 'truth': 3, 'face': 3, 'moved': 3, 'straightened': 3, 'course': 3, 'hell': 3, 'hed': 3, 'else': 3, 'left': 3, 'lifted': 3, 'yueh': 3, 'others': 3, 'day': 3, 'recognized': 3, 'wheres': 3, 'long': 3, 'little': 3, 'didnt': 3, 'shrugged': 3, 'traitor': 3, 'assure': 3, 'smugglers': 3, 'keep': 3, 'thank': 3, 'remember': 3, 'duncan': 3, 'ways': 3, 'stepped': 3, 'leto': 3, 'tone': 3, 'word': 3, 'ship': 3, 'worm': 3, 'friends': 3, 'havent': 3, 'oh': 3, 'lady': 3, 'believe': 3, 'never': 3, 'spice': 3, 'spoke': 3, 'bring': 3, 'harkonnen': 3, 'might': 3, 'choice': 3, 'went': 3, 'unless': 3, 'leaned': 3, 'boy': 3, 'killed': 3, 'watch': 3, 'found': 3, 'wanted': 3, 'knows': 3, 'knew': 3, 'seemed': 3, 'far': 3, 'anything': 3, 'name': 3, 'another': 3, 'shouldve': 3, 'touched': 3, 'accept': 3, 'nephew': 3, 'harah': 3, 'within': 3, 'changed': 3, 'go': 3, 'alia': 3, 'whirled': 2, 'steady': 2, 'cant': 2, 'hate': 2, 'mustnt': 2, 'lad': 2, 'laughter': 2, 'told': 2, 'great': 2, 'promised': 2, 'first': 2, 'thered': 2, 'ah': 2, 'observe': 2, 'therell': 2, 'obvious': 2, 'continue': 2, 'hawats': 2, 'hint': 2, 'since': 2, 'review': 2, 'humans': 2, 'talk': 2, 'dukes': 2, 'made': 2, 'wasnt': 2, 'nothing': 2, 'pulled': 2, 'wide': 2, 'quite': 2, 'wondered': 2, 'mentat': 2, 'cold': 2, 'dear': 2, 'asked': 2, 'read': 2, 'waited': 2, 'maker': 2, 'blood': 2, 'use': 2, 'whenever': 2, 'suspect': 2, 'came': 2, 'stopped': 2, 'guards': 2, 'question': 2, 'message': 2, 'step': 2, 'call': 2, 'precisely': 2, 'whats': 2, 'wouldnt': 2, 'guild': 2, 'houses': 2, 'body': 2, 'honor': 2, 'bases': 2, 'itll': 2, 'permission': 2, 'note': 2, 'everything': 2, 'without': 2, 'planet': 2, 'added': 2, 'otherwise': 2, 'slightest': 2, 'surface': 2, 'big': 2, 'five': 2, 'likely': 2, 'waste': 2, 'sank': 2, 'possible': 2, 'woman': 2, 'merely': 2, 'sir': 2, 'curious': 2, 'attempting': 2, 'patted': 2, 'trust': 2, 'however': 2, 'ever': 2, 'ahhh': 2, 'need': 2, 'dropped': 2, 'force': 2, 'slowly': 2, 'wont': 2, 'reached': 2, 'profound': 2, 'share': 2, 'ask': 2, 'lost': 2, 'technically': 2, 'gently': 2, 'embarrassment': 2, 'planets': 2, 'plan': 2, 'lived': 2, 'mlord': 2, 'doctor': 2, 'pushed': 2, 'hear': 2, 'itd': 2, 'sit': 2, 'anger': 2, 'speed': 2, 'addressing': 2, 'life': 2, 'child': 2, 'strange': 2, 'brave': 2, 'duty': 2, 'held': 2, 'become': 2, 'hurry': 2, 'follow': 2, 'us': 2, 'sayyadina': 2, 'small': 2, 'crossed': 2, 'paulmuaddib': 2, 'expect': 2, 'bowed': 2, 'goes': 2, 'entire': 2, 'though': 2, 'gone': 2, 'kept': 2, 'whatever': 2, 'waiting': 2, 'grows': 2, 'subakh': 2, 'subiays': 2, 'fastened': 2, 'send': 2, 'stand': 2, 'noted': 2, 'korba': 2, 'using': 2, 'destroy': 2, 'city': 2, 'except': 2, 'atreides': 2, 'majesty': 2, 'appearance': 1, 'sleep': 1, 'teacher': 1, 'basic': 1, 'fear': 1, 'obey': 1, 'gom': 1, 'pass': 1, 'pain': 1, 'oc': 1, 'thou': 1, 'kull': 1, 'politics': 1, 'mothers': 1, 'gives': 1, 'forms': 1, 'flux': 1, 'cause': 1, 'uncle': 1, 'aspires': 1, 'display': 1, 'indicate': 1, 'possibility': 1, 'ultimate': 1, 'calls': 1, 'attempt': 1, 'sublime': 1, 'wildest': 1, 'house': 1, 'indeed': 1, 'braved': 1, 'noble': 1, 'talks': 1, 'willow': 1, 'purpose': 1, 'wilderness': 1, 'khala': 1, 'unlearning': 1, 'ruler': 1, 'mystery': 1, 'grin': 1, 'world': 1, 'barb': 1, 'attack': 1, 'mood': 1, 'failing': 1, 'compose': 1, 'given': 1, 'hard': 1, 'everythings': 1, 'seal': 1, 'logs': 1, 'means': 1, 'soldier': 1, 'proud': 1, 'potential': 1, 'dirty': 1, 'hang': 1, 'legends': 1, 'strong': 1, 'chakobsa': 1, 'beware': 1, 'unfixed': 1, 'button': 1, 'uncleansed': 1, 'whatll': 1, 'painting': 1, 'stooped': 1, 'mapes': 1, 'moren': 1, 'look': 1, 'problems': 1, 'delicious': 1, 'wellington': 1, 'brilliant': 1, 'especially': 1, 'murmured': 1, 'letos': 1, 'wouldve': 1, 'saved': 1, 'trouble': 1, 'deliberate': 1, 'withdraw': 1, 'room': 1, 'hunterseeker': 1, 'seeker': 1, 'remembering': 1, 'housekeeper': 1, 'sorry': 1, 'darted': 1, 'stray': 1, 'deserves': 1, 'turn': 1, 'o': 1, 'comes': 1, 'incident': 1, 'civilization': 1, 'ruled': 1, 'anyone': 1, 'chose': 1, 'closer': 1, 'shields': 1, 'repair': 1, 'theoretically': 1, 'mostly': 1, 'essentially': 1, 'major': 1, 'depended': 1, 'output': 1, 'exactly': 1, 'achieved': 1, 'propertied': 1, 'file': 1, 'milky': 1, 'welcome': 1, 'observed': 1, 'mutter': 1, 'mildness': 1, 'measured': 1, 'agreed': 1, 'shot': 1, 'report': 1, 'among': 1, 'invariably': 1, 'sounds': 1, 'low': 1, 'chuckles': 1, 'kwisatz': 1, 'therefore': 1, 'tools': 1, 'prefer': 1, 'planetologist': 1, 'scientist': 1, 'suits': 1, 'gift': 1, 'interesting': 1, 'osmotic': 1, 'stood': 1, 'someday': 1, 'dune': 1, 'wear': 1, 'love': 1, 'objects': 1, 'latitudes': 1, 'sand': 1, 'really': 1, 'danger': 1, 'travel': 1, 'leader': 1, 'wherever': 1, 'stunned': 1, 'trip': 1, 'agree': 1, 'forgot': 1, 'ships': 1, 'reason': 1, 'four': 1, 'hauled': 1, 'manually': 1, 'bit': 1, 'witness': 1, 'promise': 1, 'tall': 1, 'chance': 1, 'howd': 1, 'god': 1, 'missed': 1, 'smile': 1, 'shortening': 1, 'dinner': 1, 'informed': 1, 'tuek': 1, 'arranged': 1, 'olden': 1, 'superb': 1, 'tasting': 1, 'judge': 1, 'certainly': 1, 'directing': 1, 'control': 1, 'birds': 1, 'find': 1, 'newcomer': 1, 'growth': 1, 'fact': 1, 'waters': 1, 'dreams': 1, 'please': 1, 'caladan': 1, 'drowning': 1, 'darkhaired': 1, 'stillsuit': 1, 'littles': 1, 'polish': 1, 'registering': 1, 'caffeine': 1, 'snatched': 1, 'sitting': 1, 'troubles': 1, 'insulted': 1, 'truthsayer': 1, 'biting': 1, 'threats': 1, 'human': 1, 'sighed': 1, 'position': 1, 'break': 1, 'glimpse': 1, 'sneered': 1, 'tenacious': 1, 'cautious': 1, 'aware': 1, 'thinks': 1, 'doesnt': 1, 'tenor': 1, 'lads': 1, 'whatevers': 1, 'aint': 1, 'cut': 1, 'fixed': 1, 'scarface': 1, 'litterbearer': 1, 'worried': 1, 'powers': 1, 'returned': 1, 'whynt': 1, 'looks': 1, 'wet': 1, 'putem': 1, 'kinet': 1, 'handsre': 1, 'trick': 1, 'yll': 1, 'yuehs': 1, 'relax': 1, 'hesitated': 1, 'mistake': 1, 'penetrated': 1, 'seeing': 1, 'scoped': 1, 'suggestion': 1, 'immediate': 1, 'intend': 1, 'mind': 1, 'realize': 1, 'satellites': 1, 'searched': 1, 'explained': 1, 'hoped': 1, 'fury': 1, 'missionaria': 1, 'struck': 1, 'sought': 1, 'hello': 1, 'remained': 1, 'witch': 1, 'undemanding': 1, 'hit': 1, 'dustreddened': 1, 'seen': 1, 'sneer': 1, 'met': 1, 'appeared': 1, 'matteroffactly': 1, 'fought': 1, 'truly': 1, 'welfare': 1, 'lisan': 1, 'raise': 1, 'treat': 1, 'bond': 1, 'tribe': 1, 'buying': 1, 'grinned': 1, 'aircraft': 1, 'fortunate': 1, 'lasgun': 1, 'sire': 1, 'led': 1, 'mmmm': 1, 'legend': 1, 'granted': 1, 'someone': 1, 'door': 1, 'herded': 1, 'duncans': 1, 'separated': 1, 'instrument': 1, 'joined': 1, 'hadnt': 1, 'iakin': 1, 'playing': 1, 'presence': 1, 'treated': 1, 'hide': 1, 'deadly': 1, 'last': 1, 'squeeze': 1, 'incidentally': 1, 'ridden': 1, 'suffered': 1, 'wings': 1, 'grew': 1, 'worms': 1, 'sure': 1, 'hand': 1, 'axiom': 1, 'caught': 1, 'sister': 1, 'eider': 1, 'answer': 1, 'buried': 1, 'essencehighly': 1, 'telling': 1, 'approximate': 1, 'ready': 1, 'started': 1, 'careless': 1, 'better': 1, 'someones': 1, 'holding': 1, 'scrawny': 1, 'seriously': 1, 'frowned': 1, 'enemy': 1, 'rumors': 1, 'whose': 1, 'consult': 1, 'drisq': 1, 'everywhere': 1, 'beautiful': 1, 'packs': 1, 'smell': 1, 'riches': 1, 'sill': 1, 'settled': 1, 'tomorrow': 1, 'grassland': 1, 'nomad': 1, 'nature': 1, 'act': 1, 'reading': 1, 'times': 1, 'press': 1, 'part': 1, 'every': 1, 'explain': 1, 'protracted': 1, 'shadout': 1, 'seeress': 1, 'revelation': 1, 'meanwhile': 1, 'tarry': 1, 'shaihuluds': 1, 'quickly': 1, 'heres': 1, 'night': 1, 'important': 1, 'bested': 1, 'bribes': 1, 'slow': 1, 'necessarily': 1, 'bila': 1, 'shaihulud': 1, 'champion': 1, 'meanings': 1, 'oceans': 1, 'pauls': 1, 'pitched': 1, 'cast': 1, 'wellll': 1, 'pressed': 1, 'ichwan': 1, 'watermaster': 1, 'wise': 1, 'rustling': 1, 'order': 1, 'signals': 1, 'thin': 1, 'fight': 1, 'giudichar': 1, 'hawk': 1, 'funeral': 1, 'wailing': 1, 'patrol': 1, 'spirit': 1, 'bless': 1, 'flame': 1, 'troop': 1, 'shhhh': 1, 'plenty': 1, 'walled': 1, 'bilal': 1, 'reception': 1, 'hmmmmummm': 1, 'mmmmm': 1, 'straight': 1, 'ahhhh': 1, 'fled': 1, 'transportation': 1, 'threat': 1, 'line': 1, 'killing': 1, 'connection': 1, 'learn': 1, 'lied': 1, 'nodding': 1, 'picked': 1, 'leaning': 1, 'greeting': 1, 'tortures': 1, 'feinted': 1, 'ahhhummm': 1, 'grand': 1, 'import': 1, 'theyd': 1, 'fete': 1, 'demanded': 1, 'shuddered': 1, 'easy': 1, 'ancient': 1, 'guilt': 1, 'hypnoligation': 1, 'sayings': 1, 'excuse': 1, 'hasnt': 1, 'cautions': 1, 'chanis': 1, 'ceremony': 1, 'whole': 1, 'suppose': 1, 'hesitate': 1, 'present': 1, 'butchers': 1, 'new': 1, 'fitting': 1, 'began': 1, 'hallucination': 1, 'swiftly': 1, 'thankful': 1, 'mingle': 1, 'drink': 1, 'mourn': 1, 'togetherall': 1, 'kissed': 1, 'gifts': 1, 'drug': 1, 'nice': 1, 'feyd': 1, 'garrote': 1, 'tightness': 1, 'confirms': 1, 'pledge': 1, 'toy': 1, 'feints': 1, 'refuse': 1, 'penal': 1, 'worst': 1, 'recruits': 1, 'storm': 1, 'fits': 1, 'add': 1, 'fighting': 1, 'emperors': 1, 'full': 1, 'unborn': 1, 'presently': 1, 'ritual': 1, 'husky': 1, 'halflisp': 1, 'warned': 1, 'exercises': 1, 'bad': 1, 'wake': 1, 'distant': 1, 'air': 1, 'silence': 1, 'thoughtful': 1, 'shook': 1, 'pity': 1, 'swept': 1, 'happen': 1, 'sinks': 1, 'steadied': 1, 'death': 1, 'friend': 1, 'removed': 1, 'motioned': 1, 'deep': 1, 'save': 1, 'oddly': 1, 'clattering': 1, 'tactic': 1, 'offworlders': 1, 'secure': 1, 'killer': 1, 'seven': 1, 'submit': 1, 'understood': 1, 'submitted': 1, 'failed': 1, 'calling': 1, 'stilgars': 1, 'distracted': 1, 'passed': 1, 'going': 1, 'rules': 1, 'swore': 1, 'kneel': 1, 'accepted': 1, 'draperies': 1, 'betrayer': 1, 'evidence': 1, 'tabr': 1, 'monotone': 1, 'swear': 1, 'discovers': 1, 'awakenings': 1, 'passage': 1, 'lovely': 1, 'oases': 1, 'preparing': 1, 'subterfuge': 1, 'needed': 1, 'processes': 1, 'spent': 1, 'fedaykin': 1, 'investigated': 1, 'closed': 1, 'completely': 1, 'touch': 1, 'bitterly': 1, 'listen': 1, 'drop': 1, 'gaze': 1, 'wrong': 1, 'listening': 1, 'futures': 1, 'lackeys': 1, 'beside': 1, 'weather': 1, 'desperate': 1, 'form': 1, 'chief': 1, 'hairsplitters': 1, 'flag': 1, 'choam': 1, 'subtle': 1, 'soon': 1, 'courier': 1, 'start': 1, 'otheym': 1, 'greatgreatgreat': 1, 'swirl': 1, 'explosion': 1, 'signalman': 1, 'static': 1, 'trained': 1, 'nephews': 1, 'error': 1, 'censure': 1, 'mad': 1, 'snapped': 1, 'advanced': 1, 'reported': 1, 'got': 1, 'move': 1, 'telepathy': 1, 'cosmic': 1, 'studied': 1, 'lose': 1, 'deny': 1, 'brother': 1, 'padishah': 1, 'marked': 1, 'reluctance': 1, 'contain': 1, 'cleared': 1, 'hush': 1, 'signed': 1, 'couched': 1, 'denied': 1, 'son': 1, 'sons': 1, 'fathers': 1, 'almost': 1, 'pointing': 1, 'grow': 1, 'permitted': 1, 'poisons': 1, 'royal': 1, 'dare': 1, 'remind': 1, 'nabaron': 1, 'kanly': 1, 'easier': 1, 'poison': 1, 'hefted': 1, 'relieve': 1, 'meet': 1, 'prolong': 1, 'flowing': 1, 'receive': 1, 'looking': 1, 'walk': 1, 'system': 1, 'beginning': 1, 'genesis': 1, 'comparing': 1, 'pages': 1, 'net': 1, 'convey': 1, 'match': 1}\n"
     ]
    }
   ],
   "source": [
    "count_curr_succ_dict = {}\n",
    "for term in curr_succ_dict.keys():\n",
    "    counter_dict = dict(Counter(curr_succ_dict[term]))\n",
    "    sorted_counter = {k: v for k, v in sorted(counter_dict.items(), key=lambda item: item[1], reverse=True)}\n",
    "    count_curr_succ_dict[term] = sorted_counter\n",
    "\n",
    "# with open(\"output.txt\", \"w\") as f:\n",
    "#     print(count_curr_succ_dict, file=f)\n",
    "# pprint(count_curr_succ_dict)\n",
    "print(count_curr_succ_dict[\"said\"])"
   ],
   "metadata": {
    "collapsed": false
   }
  },
  {
   "cell_type": "code",
   "execution_count": 45,
   "outputs": [
    {
     "name": "stdout",
     "output_type": "stream",
     "text": [
      "prolonged indrawn breathsensing narcotic wetness gray eyes stared. ghafla distraction gives moisture dead baron said paul. catch tables edge tip ahah dont know said. liturgical manual muaddib princess irulan paul said paul. distraction gives moisture dead baron said paul said. rode streets morning room paul said paul said. beings father said paul said paul said paul. conceals night rest night rest night rest night. leather twin ink spots head looked back paul. travelers filmbook viewer several times paul said paul. aliaoftheknife reverend mother said paul said paul said. jowl leto said paul said paul said paul. throat said paul said.\n"
     ]
    }
   ],
   "source": [
    "paragraph_length = 100\n",
    "sentence_length = 8\n",
    "paragraph = \"\"\n",
    "current_word = random.choice(unique_terms)\n",
    "paragraph += current_word\n",
    "\n",
    "for i in range(1, paragraph_length):\n",
    "    current_word = list(count_curr_succ_dict[current_word])[0]\n",
    "    if i % sentence_length == 0:\n",
    "        paragraph += \".\"\n",
    "        current_word = random.choice(unique_terms)\n",
    "    paragraph += \" \" + current_word\n",
    "paragraph += \".\"\n",
    "print(paragraph)"
   ],
   "metadata": {
    "collapsed": false
   }
  },
  {
   "cell_type": "code",
   "execution_count": null,
   "outputs": [],
   "source": [],
   "metadata": {
    "collapsed": false
   }
  }
 ],
 "metadata": {
  "kernelspec": {
   "name": "dmlab1",
   "language": "python",
   "display_name": "dmlab1"
  },
  "language_info": {
   "codemirror_mode": {
    "name": "ipython",
    "version": 2
   },
   "file_extension": ".py",
   "mimetype": "text/x-python",
   "name": "python",
   "nbconvert_exporter": "python",
   "pygments_lexer": "ipython2",
   "version": "2.7.6"
  }
 },
 "nbformat": 4,
 "nbformat_minor": 0
}

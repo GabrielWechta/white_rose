{
 "cells": [
  {
   "cell_type": "code",
   "execution_count": 2,
   "metadata": {},
   "outputs": [],
   "source": [
    "from string import punctuation\n",
    "from typing import List\n",
    "from nltk import PorterStemmer\n",
    "\n",
    "with open(\"stopwords.txt\", encoding=\"UTF-8\") as f:\n",
    "    stopwords = [stopword.rstrip() for stopword in f]\n",
    "    \n",
    "def normalize(words: List[str]):\n",
    "    no_pun_words = [word.lower().translate(str.maketrans('', '', punctuation)) for word in words]\n",
    "    filtered_words = [w for w in no_pun_words if not w in stopwords and not len(w)==0]\n",
    "    stemmer = PorterStemmer()\n",
    "    stemmed_words = [stemmer.stem(word) for word in filtered_words]\n",
    "    grouped_pairs = list(Counter(stemmed_words).items())\n",
    "    grouped_pairs.sort(key=lambda pair: pair[1], reverse=True)\n",
    "    return grouped_pairs"
   ]
  },
  {
   "cell_type": "code",
   "execution_count": 3,
   "metadata": {},
   "outputs": [],
   "source": [
    "def get_list_of_words_chapter(file_name: str):\n",
    "    with open(file_name, encoding=\"UTF-8\") as f:\n",
    "        words = [word for line in f for word in line.split()]\n",
    "    return words"
   ]
  },
  {
   "cell_type": "code",
   "execution_count": null,
   "metadata": {},
   "outputs": [],
   "source": []
  }
 ],
 "metadata": {
  "kernelspec": {
   "display_name": "dmlab1",
   "language": "python",
   "name": "dmlab1"
  },
  "language_info": {
   "codemirror_mode": {
    "name": "ipython",
    "version": 3
   },
   "file_extension": ".py",
   "mimetype": "text/x-python",
   "name": "python",
   "nbconvert_exporter": "python",
   "pygments_lexer": "ipython3",
   "version": "3.10.6"
  }
 },
 "nbformat": 4,
 "nbformat_minor": 4
}

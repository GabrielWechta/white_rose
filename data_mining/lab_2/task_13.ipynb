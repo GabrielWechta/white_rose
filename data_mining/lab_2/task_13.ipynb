{
 "cells": [
  {
   "cell_type": "code",
   "execution_count": null,
   "outputs": [],
   "source": [
    "import math\n",
    "\n",
    "import numpy as np\n",
    "import matplotlib.pyplot as plt\n",
    "from sklearn.linear_model import LinearRegression\n",
    "\n",
    "np.random.seed(0)"
   ],
   "metadata": {
    "collapsed": false
   }
  },
  {
   "cell_type": "code",
   "execution_count": null,
   "outputs": [],
   "source": [
    "# constant for later usage\n",
    "b_0 = -1.0\n",
    "b_1 = 0.5\n",
    "sig_sq_original = 0.25\n",
    "sig_sq_less_noise = 0.1\n",
    "sig_sq_more_noise = 0.5"
   ],
   "metadata": {
    "collapsed": false
   }
  },
  {
   "cell_type": "code",
   "execution_count": null,
   "outputs": [],
   "source": [
    "def generate_and_describe_sample(sig_sq=0.25):\n",
    "    x = np.random.normal(0, 1.0, 100)\n",
    "    eps = np.random.normal(0, sig_sq, 100)\n",
    "    y = -1.0 + 0.5 * x + eps\n",
    "    plt.scatter(x, y)\n",
    "    x_lin = np.linspace(-3, 3, 10)\n",
    "    plt.plot(x_lin, -1.0 + 0.5 * x_lin, c=\"black\", label=\"population regression line\")\n",
    "    plt.legend()\n",
    "    return x, y"
   ],
   "metadata": {
    "collapsed": false
   }
  },
  {
   "cell_type": "code",
   "execution_count": null,
   "outputs": [],
   "source": [
    "x, y = generate_and_describe_sample(sig_sq_original)"
   ],
   "metadata": {
    "collapsed": false
   }
  },
  {
   "cell_type": "markdown",
   "source": [
    "$|y| = 100$,\n",
    "$\\beta_0 = -1$,\n",
    "$\\beta_1 = 0.5$"
   ],
   "metadata": {
    "collapsed": false
   }
  },
  {
   "cell_type": "code",
   "execution_count": null,
   "outputs": [],
   "source": [
    "def conduct_main_operations(X: np.array, Y: np.array):\n",
    "    # fitting model\n",
    "    model = LinearRegression().fit(X, Y)\n",
    "\n",
    "    # scoring\n",
    "    R_2 = model.score(X, Y)\n",
    "    b_0_hat = model.intercept_\n",
    "    b_1_hat = model.coef_[0]\n",
    "\n",
    "    if len(model.coef_) > 1:\n",
    "        b_2_hat = model.coef_[1]\n",
    "        print(f\"{R_2=}\\n{b_0_hat=}\\n{b_1_hat=}\\n{b_2_hat=}\")\n",
    "    else:\n",
    "        print(f\"{R_2=}\\n{b_0_hat=}\\n{b_1_hat=}\")\n",
    "\n",
    "    print(f\"b_0_hat_err={abs((b_0_hat - b_0) / b_0)}\")\n",
    "    print(f\"b_1_hat_err={abs((b_1_hat - b_1) / b_1)}\")\n",
    "\n",
    "    return model"
   ],
   "metadata": {
    "collapsed": false
   }
  },
  {
   "cell_type": "code",
   "execution_count": null,
   "outputs": [],
   "source": [
    "reg = conduct_main_operations(X=x.reshape((-1, 1)), Y=y)\n",
    "plt.scatter(x.reshape((-1, 1)), y)\n",
    "x_lin = np.linspace(-3, 3, 10)\n",
    "b_0_hat = reg.intercept_\n",
    "b_1_hat = reg.coef_[0]\n",
    "plt.plot(x_lin, -1.0 + 0.5 * x_lin, c=\"black\", label=\"population regression line\")\n",
    "plt.plot(x_lin, b_0_hat + b_1_hat * x_lin, c=\"red\", label=\"least squares line\")\n",
    "plt.legend()"
   ],
   "metadata": {
    "collapsed": false
   }
  },
  {
   "cell_type": "code",
   "execution_count": null,
   "outputs": [],
   "source": [
    "xx = np.array([x, np.square(x)]).reshape((-1, 2))\n",
    "conduct_main_operations(X=xx, Y=y)\n",
    "\n",
    "fig = plt.figure(figsize=(6, 6))\n",
    "ax = fig.add_subplot(projection='3d')\n",
    "ax.scatter(x, np.square(x), y)\n",
    "ax.set_xlabel('x')\n",
    "ax.set_ylabel('x^2')\n",
    "ax.set_zlabel('y')"
   ],
   "metadata": {
    "collapsed": false
   }
  },
  {
   "cell_type": "code",
   "execution_count": null,
   "outputs": [],
   "source": [
    "plt.clf()\n",
    "x_less_noise, y_less_noise = generate_and_describe_sample(sig_sq=sig_sq_less_noise)\n",
    "reg_less_noise = conduct_main_operations(X=x_less_noise.reshape((-1, 1)), Y=y_less_noise)\n",
    "b_0_hat_less = reg_less_noise.intercept_\n",
    "b_1_hat_less = reg_less_noise.coef_[0]\n",
    "plt.scatter(x_less_noise.reshape((-1, 1)), y_less_noise)\n",
    "x_lin = np.linspace(-3, 3, 10)\n",
    "plt.plot(x_lin, b_0_hat_less + b_1_hat_less * x_lin, c=\"red\", label=\"least squares line\")\n",
    "plt.legend()"
   ],
   "metadata": {
    "collapsed": false
   }
  },
  {
   "cell_type": "code",
   "execution_count": null,
   "outputs": [],
   "source": [
    "plt.clf()\n",
    "x_more_noise, y_more_noise = generate_and_describe_sample(sig_sq=sig_sq_more_noise)\n",
    "reg_more_noise = conduct_main_operations(X=x_more_noise.reshape((-1, 1)), Y=y_more_noise)\n",
    "b_0_hat_more = reg_more_noise.intercept_\n",
    "b_1_hat_more = reg_more_noise.coef_[0]\n",
    "plt.scatter(x_more_noise.reshape((-1, 1)), y_more_noise)\n",
    "x_lin = np.linspace(-3, 3, 10)\n",
    "plt.plot(x_lin, b_0_hat_more + b_1_hat_more * x_lin, c=\"red\", label=\"least squares line\")\n",
    "plt.legend()"
   ],
   "metadata": {
    "collapsed": false
   }
  },
  {
   "cell_type": "markdown",
   "source": [
    "A 95% confidence interval for estimator $\\hat\\Theta$ is $$[\\hat\\Theta - 1.96 \\cdot SE(\\hat\\Theta), \\hat\\Theta + 1.96 \\cdot SE(\\hat\\Theta)]$$ and $$SE(\\hat\\beta_0) = \\sqrt{\\sigma^2\\left[\\frac{1}{n} + \\frac{\\bar x^2}{\\sum_{i=1}^{n}{(x_i - \\bar x)^2}}\\right]$$ and $$SE(\\hat\\beta_1) = \\sqrt{\\frac{\\sigma^2}{\\sum_{i=1}^{n}{(x_i - \\bar x)^2}}$$"
   ],
   "metadata": {
    "collapsed": false
   }
  },
  {
   "cell_type": "code",
   "execution_count": null,
   "outputs": [],
   "source": [
    "def SE_B0(x, sig_sq):\n",
    "    mean = x.mean()\n",
    "    denominator = np.sum((x - mean) ** 2)\n",
    "    return math.sqrt(sig_sq * (1 / 100 * (mean ** 2) / denominator))\n",
    "\n",
    "\n",
    "def SE_B1(x, sig_sq):\n",
    "    mean = x.mean()\n",
    "    denominator = np.sum((x - mean) ** 2)\n",
    "    return math.sqrt(sig_sq / denominator)"
   ],
   "metadata": {
    "collapsed": false
   }
  },
  {
   "cell_type": "code",
   "execution_count": null,
   "outputs": [],
   "source": [
    "print(f\"{SE_B0(x, sig_sq_original)=}\")\n",
    "print(f\"{SE_B1(x, sig_sq_original)=}\")\n",
    "\n",
    "print(f\"{SE_B0(x_less_noise, sig_sq_less_noise)=}\")\n",
    "print(f\"{SE_B1(x_less_noise, sig_sq_less_noise)=}\")\n",
    "\n",
    "print(f\"{SE_B0(x_more_noise, sig_sq_more_noise)=}\")\n",
    "print(f\"{SE_B1(x_more_noise, sig_sq_more_noise)=}\")"
   ],
   "metadata": {
    "collapsed": false
   }
  },
  {
   "cell_type": "code",
   "execution_count": null,
   "outputs": [],
   "source": [
    "print(f\"original: {b_0_hat=} > [{b_0_hat - 1.96 * SE_B0(x, sig_sq_original)},{b_0_hat + 1.96 * SE_B0(x, sig_sq_original)}]\")\n",
    "print(\n",
    "    f\"less noise: {b_0_hat_less=} > [{b_0_hat_less - 1.96 * SE_B0(x, sig_sq_original)},{b_0_hat_less + 1.96 * SE_B0(x, sig_sq_original)}]\")\n",
    "print(\n",
    "    f\"more noise: {b_0_hat_more=} > [{b_0_hat_more - 1.96 * SE_B0(x, sig_sq_original)},{b_0_hat_more + 1.96 * SE_B0(x, sig_sq_original)}]\")"
   ],
   "metadata": {
    "collapsed": false
   }
  },
  {
   "cell_type": "code",
   "execution_count": null,
   "outputs": [],
   "source": [
    "print(f\"original: {b_1_hat=} > [{b_1_hat - 1.96 * SE_B1(x, sig_sq_original)},{b_1_hat + 1.96 * SE_B1(x, sig_sq_original)}]\")\n",
    "print(\n",
    "    f\"less noise: {b_1_hat_less=} > [{b_1_hat_less - 1.96 * SE_B1(x, sig_sq_original)},{b_1_hat_less + 1.96 * SE_B1(x, sig_sq_original)}]\")\n",
    "print(\n",
    "    f\"more noise: {b_1_hat_more=} > [{b_1_hat_more - 1.96 * SE_B1(x, sig_sq_original)},{b_1_hat_more + 1.96 * SE_B1(x, sig_sq_original)}]\")"
   ],
   "metadata": {
    "collapsed": false
   }
  }
 ],
 "metadata": {
  "kernelspec": {
   "display_name": "Python 3",
   "language": "python",
   "name": "python3"
  },
  "language_info": {
   "codemirror_mode": {
    "name": "ipython",
    "version": 2
   },
   "file_extension": ".py",
   "mimetype": "text/x-python",
   "name": "python",
   "nbconvert_exporter": "python",
   "pygments_lexer": "ipython2",
   "version": "2.7.6"
  }
 },
 "nbformat": 4,
 "nbformat_minor": 0
}

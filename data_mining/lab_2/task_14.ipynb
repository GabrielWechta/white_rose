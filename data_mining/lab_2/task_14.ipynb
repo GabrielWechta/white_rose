{
 "cells": [
  {
   "cell_type": "code",
   "execution_count": null,
   "metadata": {
    "collapsed": true
   },
   "outputs": [],
   "source": [
    "import math\n",
    "\n",
    "import numpy as np\n",
    "import matplotlib.pyplot as plt\n",
    "from sklearn.linear_model import LinearRegression\n",
    "import statsmodels.api as sm\n",
    "\n",
    "np.random.seed(0)\n",
    "n = 100\n",
    "b_0 = 2\n",
    "b_1 = 2\n",
    "b_2 = 0.3"
   ]
  },
  {
   "cell_type": "code",
   "execution_count": null,
   "outputs": [],
   "source": [
    "def cov(x, y, n):\n",
    "    return (np.sum(x - np.mean(x)) * (y - np.mean(y))) / (n - 1)"
   ],
   "metadata": {
    "collapsed": false
   }
  },
  {
   "cell_type": "code",
   "execution_count": null,
   "outputs": [],
   "source": [
    "def conduct_main_operations(X: np.array, Y: np.array):\n",
    "    # fitting model\n",
    "    model = LinearRegression().fit(X, Y)\n",
    "\n",
    "    # scoring\n",
    "    R_2 = model.score(X, Y)\n",
    "    b_0_hat = model.intercept_\n",
    "    b_1_hat = model.coef_[0]\n",
    "    b_2_hat = model.coef_[1]\n",
    "\n",
    "    if len(model.coef_) > 1:\n",
    "        print(f\"{R_2=}\\n{b_0_hat=}\\n{b_1_hat=}\\n{b_2_hat=}\")\n",
    "    else:\n",
    "        print(f\"{R_2=}\\n{b_0_hat=}\\n{b_1_hat=}\")\n",
    "\n",
    "    print(f\"b_0_hat_err={abs((b_0_hat - b_0) / b_0)}\")\n",
    "    print(f\"b_1_hat_err={abs((b_1_hat - b_1) / b_1)}\")\n",
    "    print(f\"b_2_hat_err={abs((b_2_hat - b_2) / b_2)}\")\n",
    "\n",
    "    return model"
   ],
   "metadata": {
    "collapsed": false
   }
  },
  {
   "cell_type": "code",
   "execution_count": null,
   "outputs": [],
   "source": [
    "def SE_B1(x, sig_sq):\n",
    "    mean = x.mean()\n",
    "    denominator = np.sum((x - mean) ** 2)\n",
    "    return math.sqrt(sig_sq / denominator)"
   ],
   "metadata": {
    "collapsed": false
   }
  },
  {
   "cell_type": "code",
   "execution_count": null,
   "outputs": [],
   "source": [
    "x_1 = np.random.uniform(0, 1, 100)\n",
    "x_2 = 0.5 * x_1 + np.random.normal(0, 1, 100) / 10\n",
    "y = 2 + 2 * x_1 + 0.3 * x_2 + np.random.normal(0, 1, 100)"
   ],
   "metadata": {
    "collapsed": false
   }
  },
  {
   "cell_type": "markdown",
   "source": [
    "$y = 2 + 2 \\cdot x_1 + 0.3 \\cdot x_2 + \\epsilon$"
   ],
   "metadata": {
    "collapsed": false
   }
  },
  {
   "cell_type": "code",
   "execution_count": null,
   "outputs": [],
   "source": [
    "plt.scatter(x_1, x_2)"
   ],
   "metadata": {
    "collapsed": false
   }
  },
  {
   "cell_type": "code",
   "execution_count": null,
   "outputs": [],
   "source": [
    "np.corrcoef(x_1, x_2)"
   ],
   "metadata": {
    "collapsed": false
   }
  },
  {
   "cell_type": "code",
   "execution_count": null,
   "outputs": [],
   "source": [
    "req = conduct_main_operations(X=np.array([x_1, x_2]).reshape((-1, 2)), Y=y)"
   ],
   "metadata": {
    "collapsed": false
   }
  },
  {
   "cell_type": "code",
   "execution_count": 54,
   "outputs": [
    {
     "name": "stdout",
     "output_type": "stream",
     "text": [
      "                            OLS Regression Results                            \n",
      "==============================================================================\n",
      "Dep. Variable:                      y   R-squared:                       0.001\n",
      "Model:                            OLS   Adj. R-squared:                 -0.019\n",
      "Method:                 Least Squares   F-statistic:                   0.06100\n",
      "Date:                Wed, 02 Nov 2022   Prob (F-statistic):              0.941\n",
      "Time:                        10:16:23   Log-Likelihood:                -154.13\n",
      "No. Observations:                 100   AIC:                             314.3\n",
      "Df Residuals:                      97   BIC:                             322.1\n",
      "Df Model:                           2                                         \n",
      "Covariance Type:            nonrobust                                         \n",
      "==============================================================================\n",
      "                 coef    std err          t      P>|t|      [0.025      0.975]\n",
      "------------------------------------------------------------------------------\n",
      "const          2.8166      0.244     11.531      0.000       2.332       3.301\n",
      "x1             0.0004      0.440      0.001      0.999      -0.873       0.874\n",
      "x2             0.1537      0.442      0.347      0.729      -0.724       1.031\n",
      "==============================================================================\n",
      "Omnibus:                        1.758   Durbin-Watson:                   1.786\n",
      "Prob(Omnibus):                  0.415   Jarque-Bera (JB):                1.339\n",
      "Skew:                           0.275   Prob(JB):                        0.512\n",
      "Kurtosis:                       3.139   Cond. No.                         4.68\n",
      "==============================================================================\n",
      "\n",
      "Notes:\n",
      "[1] Standard Errors assume that the covariance matrix of the errors is correctly specified.\n"
     ]
    }
   ],
   "source": [
    "y_train = y\n",
    "X_train = np.array([x_1, x_2]).reshape((-1, 2))\n",
    "X_train_lm = sm.add_constant(X_train)  # An intercept is not included by default and should be added by the user\n",
    "lm = sm.OLS(y_train, X_train_lm).fit()\n",
    "print(lm.summary())"
   ],
   "metadata": {
    "collapsed": false
   }
  },
  {
   "cell_type": "markdown",
   "source": [
    "## $x_1$ and $x_2$\n",
    "We can see that p-value is very high both for $x_1$ is $0.999$ and $x_2$ is $0.729$, therefore it proofs $H_0$ and $H_1$."
   ],
   "metadata": {
    "collapsed": false
   }
  },
  {
   "cell_type": "code",
   "execution_count": 49,
   "outputs": [
    {
     "name": "stdout",
     "output_type": "stream",
     "text": [
      "                            OLS Regression Results                            \n",
      "==============================================================================\n",
      "Dep. Variable:                      y   R-squared:                       0.244\n",
      "Model:                            OLS   Adj. R-squared:                  0.236\n",
      "Method:                 Least Squares   F-statistic:                     31.64\n",
      "Date:                Wed, 02 Nov 2022   Prob (F-statistic):           1.76e-07\n",
      "Time:                        10:07:23   Log-Likelihood:                -140.20\n",
      "No. Observations:                 100   AIC:                             284.4\n",
      "Df Residuals:                      98   BIC:                             289.6\n",
      "Df Model:                           1                                         \n",
      "Covariance Type:            nonrobust                                         \n",
      "==============================================================================\n",
      "                 coef    std err          t      P>|t|      [0.025      0.975]\n",
      "------------------------------------------------------------------------------\n",
      "const          1.9548      0.191     10.247      0.000       1.576       2.333\n",
      "x1             1.9378      0.344      5.625      0.000       1.254       2.621\n",
      "==============================================================================\n",
      "Omnibus:                        0.305   Durbin-Watson:                   2.127\n",
      "Prob(Omnibus):                  0.858   Jarque-Bera (JB):                0.050\n",
      "Skew:                          -0.005   Prob(JB):                        0.975\n",
      "Kurtosis:                       3.109   Cond. No.                         4.30\n",
      "==============================================================================\n",
      "\n",
      "Notes:\n",
      "[1] Standard Errors assume that the covariance matrix of the errors is correctly specified.\n"
     ]
    }
   ],
   "source": [
    "X_train = np.array(x_1).reshape((-1, 1))\n",
    "X_train_lm = sm.add_constant(X_train)\n",
    "lm = sm.OLS(y_train, X_train_lm).fit()\n",
    "print(lm.summary())"
   ],
   "metadata": {
    "collapsed": false
   }
  },
  {
   "cell_type": "markdown",
   "source": [
    "## Only $x_1$\n",
    "Here p-value for $x_1$ is $0.000$, therefore it rejects $H_0$."
   ],
   "metadata": {
    "collapsed": false
   }
  },
  {
   "cell_type": "code",
   "execution_count": 48,
   "outputs": [
    {
     "name": "stdout",
     "output_type": "stream",
     "text": [
      "                            OLS Regression Results                            \n",
      "==============================================================================\n",
      "Dep. Variable:                      y   R-squared:                       0.231\n",
      "Model:                            OLS   Adj. R-squared:                  0.223\n",
      "Method:                 Least Squares   F-statistic:                     29.37\n",
      "Date:                Wed, 02 Nov 2022   Prob (F-statistic):           4.29e-07\n",
      "Time:                        10:07:00   Log-Likelihood:                -141.09\n",
      "No. Observations:                 100   AIC:                             286.2\n",
      "Df Residuals:                      98   BIC:                             291.4\n",
      "Df Model:                           1                                         \n",
      "Covariance Type:            nonrobust                                         \n",
      "==============================================================================\n",
      "                 coef    std err          t      P>|t|      [0.025      0.975]\n",
      "------------------------------------------------------------------------------\n",
      "const          2.0721      0.178     11.623      0.000       1.718       2.426\n",
      "x1             3.1255      0.577      5.419      0.000       1.981       4.270\n",
      "==============================================================================\n",
      "Omnibus:                        0.213   Durbin-Watson:                   2.005\n",
      "Prob(Omnibus):                  0.899   Jarque-Bera (JB):                0.187\n",
      "Skew:                           0.100   Prob(JB):                        0.911\n",
      "Kurtosis:                       2.929   Cond. No.                         6.14\n",
      "==============================================================================\n",
      "\n",
      "Notes:\n",
      "[1] Standard Errors assume that the covariance matrix of the errors is correctly specified.\n"
     ]
    }
   ],
   "source": [
    "X_train = np.array(x_2).reshape((-1, 1))\n",
    "X_train_lm = sm.add_constant(X_train)\n",
    "lm = sm.OLS(y_train, X_train_lm).fit()\n",
    "print(lm.summary())"
   ],
   "metadata": {
    "collapsed": false
   }
  },
  {
   "cell_type": "markdown",
   "source": [
    "## Only $x_2$\n",
    "Here p-value for $x_2$ is $0.000$, therefore it rejects $H_1$."
   ],
   "metadata": {
    "collapsed": false
   }
  },
  {
   "cell_type": "code",
   "execution_count": 50,
   "outputs": [],
   "source": [
    "mismeasured_x_1 = np.append(x_1, 0.1)\n",
    "mismeasured_x_2 = np.append(x_2, 0.8)\n",
    "mismeasured_y = np.append(y, 6)"
   ],
   "metadata": {
    "collapsed": false
   }
  },
  {
   "cell_type": "code",
   "execution_count": 51,
   "outputs": [
    {
     "name": "stdout",
     "output_type": "stream",
     "text": [
      "                            OLS Regression Results                            \n",
      "==============================================================================\n",
      "Dep. Variable:                      y   R-squared:                       0.001\n",
      "Model:                            OLS   Adj. R-squared:                 -0.020\n",
      "Method:                 Least Squares   F-statistic:                   0.02894\n",
      "Date:                Wed, 02 Nov 2022   Prob (F-statistic):              0.971\n",
      "Time:                        10:15:18   Log-Likelihood:                -158.89\n",
      "No. Observations:                 101   AIC:                             323.8\n",
      "Df Residuals:                      98   BIC:                             331.6\n",
      "Df Model:                           2                                         \n",
      "Covariance Type:            nonrobust                                         \n",
      "==============================================================================\n",
      "                 coef    std err          t      P>|t|      [0.025      0.975]\n",
      "------------------------------------------------------------------------------\n",
      "const          2.8717      0.252     11.385      0.000       2.371       3.372\n",
      "x1            -0.0221      0.443     -0.050      0.960      -0.901       0.857\n",
      "x2             0.1094      0.459      0.239      0.812      -0.801       1.020\n",
      "==============================================================================\n",
      "Omnibus:                        2.739   Durbin-Watson:                   1.688\n",
      "Prob(Omnibus):                  0.254   Jarque-Bera (JB):                2.226\n",
      "Skew:                           0.352   Prob(JB):                        0.329\n",
      "Kurtosis:                       3.186   Cond. No.                         4.72\n",
      "==============================================================================\n",
      "\n",
      "Notes:\n",
      "[1] Standard Errors assume that the covariance matrix of the errors is correctly specified.\n"
     ]
    }
   ],
   "source": [
    "X_train = np.array([mismeasured_x_1, mismeasured_x_2]).reshape((-1, 2))\n",
    "X_train_lm = sm.add_constant(X_train)  # An intercept is not included by default and should be added by the user\n",
    "lm = sm.OLS(mismeasured_y, X_train_lm).fit()\n",
    "print(lm.summary())"
   ],
   "metadata": {
    "collapsed": false
   }
  },
  {
   "cell_type": "code",
   "execution_count": 52,
   "outputs": [
    {
     "name": "stdout",
     "output_type": "stream",
     "text": [
      "                            OLS Regression Results                            \n",
      "==============================================================================\n",
      "Dep. Variable:                      y   R-squared:                       0.192\n",
      "Model:                            OLS   Adj. R-squared:                  0.184\n",
      "Method:                 Least Squares   F-statistic:                     23.57\n",
      "Date:                Wed, 02 Nov 2022   Prob (F-statistic):           4.50e-06\n",
      "Time:                        10:15:42   Log-Likelihood:                -148.13\n",
      "No. Observations:                 101   AIC:                             300.3\n",
      "Df Residuals:                      99   BIC:                             305.5\n",
      "Df Model:                           1                                         \n",
      "Covariance Type:            nonrobust                                         \n",
      "==============================================================================\n",
      "                 coef    std err          t      P>|t|      [0.025      0.975]\n",
      "------------------------------------------------------------------------------\n",
      "const          2.0719      0.201     10.315      0.000       1.673       2.470\n",
      "x1             1.7696      0.364      4.855      0.000       1.046       2.493\n",
      "==============================================================================\n",
      "Omnibus:                        6.291   Durbin-Watson:                   1.848\n",
      "Prob(Omnibus):                  0.043   Jarque-Bera (JB):                6.776\n",
      "Skew:                           0.373   Prob(JB):                       0.0338\n",
      "Kurtosis:                       4.027   Cond. No.                         4.27\n",
      "==============================================================================\n",
      "\n",
      "Notes:\n",
      "[1] Standard Errors assume that the covariance matrix of the errors is correctly specified.\n"
     ]
    }
   ],
   "source": [
    "X_train = np.array(mismeasured_x_1).reshape((-1, 1))\n",
    "X_train_lm = sm.add_constant(X_train)\n",
    "lm = sm.OLS(mismeasured_y, X_train_lm).fit()\n",
    "print(lm.summary())"
   ],
   "metadata": {
    "collapsed": false
   }
  },
  {
   "cell_type": "code",
   "execution_count": 53,
   "outputs": [
    {
     "name": "stdout",
     "output_type": "stream",
     "text": [
      "                            OLS Regression Results                            \n",
      "==============================================================================\n",
      "Dep. Variable:                      y   R-squared:                       0.271\n",
      "Model:                            OLS   Adj. R-squared:                  0.264\n",
      "Method:                 Least Squares   F-statistic:                     36.88\n",
      "Date:                Wed, 02 Nov 2022   Prob (F-statistic):           2.33e-08\n",
      "Time:                        10:15:42   Log-Likelihood:                -142.93\n",
      "No. Observations:                 101   AIC:                             289.9\n",
      "Df Residuals:                      99   BIC:                             295.1\n",
      "Df Model:                           1                                         \n",
      "Covariance Type:            nonrobust                                         \n",
      "==============================================================================\n",
      "                 coef    std err          t      P>|t|      [0.025      0.975]\n",
      "------------------------------------------------------------------------------\n",
      "const          2.0255      0.176     11.531      0.000       1.677       2.374\n",
      "x1             3.3578      0.553      6.073      0.000       2.261       4.455\n",
      "==============================================================================\n",
      "Omnibus:                        0.071   Durbin-Watson:                   1.999\n",
      "Prob(Omnibus):                  0.965   Jarque-Bera (JB):                0.141\n",
      "Skew:                           0.061   Prob(JB):                        0.932\n",
      "Kurtosis:                       2.864   Cond. No.                         5.91\n",
      "==============================================================================\n",
      "\n",
      "Notes:\n",
      "[1] Standard Errors assume that the covariance matrix of the errors is correctly specified.\n"
     ]
    }
   ],
   "source": [
    "X_train = np.array(mismeasured_x_2).reshape((-1, 1))\n",
    "X_train_lm = sm.add_constant(X_train)\n",
    "lm = sm.OLS(mismeasured_y, X_train_lm).fit()\n",
    "print(lm.summary())"
   ],
   "metadata": {
    "collapsed": false
   }
  },
  {
   "cell_type": "code",
   "execution_count": null,
   "outputs": [],
   "source": [],
   "metadata": {
    "collapsed": false
   }
  }
 ],
 "metadata": {
  "kernelspec": {
   "display_name": "Python 3",
   "language": "python",
   "name": "python3"
  },
  "language_info": {
   "codemirror_mode": {
    "name": "ipython",
    "version": 2
   },
   "file_extension": ".py",
   "mimetype": "text/x-python",
   "name": "python",
   "nbconvert_exporter": "python",
   "pygments_lexer": "ipython2",
   "version": "2.7.6"
  }
 },
 "nbformat": 4,
 "nbformat_minor": 0
}

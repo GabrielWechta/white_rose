{
 "cells": [
  {
   "cell_type": "code",
   "execution_count": 7,
   "metadata": {
    "collapsed": true
   },
   "outputs": [],
   "source": [
    "import numpy as np\n",
    "import pandas as pd\n",
    "import statsmodels.api as sm\n",
    "from patsy import dmatrices\n",
    "from sklearn import metrics\n",
    "\n",
    "np.random.seed(1)"
   ]
  },
  {
   "cell_type": "code",
   "execution_count": 8,
   "outputs": [],
   "source": [
    "def get_lin_reg_model(model_formula, df_in, print_MSE=False, return_MSE=False):\n",
    "    \"\"\"\n",
    "    Function returns the summary for fitted linear model.\n",
    "\n",
    "    Parameter \"model_formula\" should be a patsy formula describing the model.\n",
    "    Parameter \"df\" is a dataframe.\n",
    "    \"\"\"\n",
    "\n",
    "    # Split the data into training (80%) and validation set (20%)\n",
    "    mask = np.random.rand(len(df_in)) < 0.8\n",
    "    train = df_in[mask]\n",
    "    valid = df_in[~mask]\n",
    "\n",
    "    # Prepare the data (dmatrices is from patsy library)\n",
    "    y_train, X_train = dmatrices(model_formula, data=train, return_type='dataframe')\n",
    "    y_valid, X_valid = dmatrices(model_formula, data=valid, return_type='dataframe')\n",
    "\n",
    "    # Train the model\n",
    "    model = sm.OLS(y_train, X_train)\n",
    "    fitted_model = model.fit()\n",
    "    y_train_pred = fitted_model.predict(X_train)\n",
    "    train_MSE = metrics.mean_squared_error(y_train, y_train_pred)\n",
    "    y_valid_pred = fitted_model.predict(X_valid)\n",
    "    test_MSE = metrics.mean_squared_error(y_valid, y_valid_pred)\n",
    "\n",
    "    if print_MSE is True:\n",
    "        # Show MSE for training set\n",
    "        print(f'{train_MSE=}')\n",
    "\n",
    "        # Show MSE for validation set\n",
    "        print(f'{test_MSE=}\\n')\n",
    "\n",
    "    # Return fitted model\n",
    "    if return_MSE is True:\n",
    "        return fitted_model, train_MSE, test_MSE\n",
    "    else:\n",
    "        return fitted_model"
   ],
   "metadata": {
    "collapsed": false
   }
  },
  {
   "cell_type": "code",
   "execution_count": 9,
   "outputs": [],
   "source": [
    "PATH = \"lab/data/\"\n",
    "df_raw = pd.read_csv(f'{PATH}Auto.csv')"
   ],
   "metadata": {
    "collapsed": false
   }
  },
  {
   "cell_type": "code",
   "execution_count": 10,
   "outputs": [
    {
     "data": {
      "text/plain": "mpg             0\ncylinders       0\ndisplacement    0\nhorsepower      0\nweight          0\nacceleration    0\nyear            0\norigin          0\nname            0\ndtype: int64"
     },
     "execution_count": 10,
     "metadata": {},
     "output_type": "execute_result"
    }
   ],
   "source": [
    "df_raw.isnull().sum() # checking for nulls"
   ],
   "metadata": {
    "collapsed": false
   }
  },
  {
   "cell_type": "code",
   "execution_count": 14,
   "outputs": [
    {
     "name": "stdout",
     "output_type": "stream",
     "text": [
      "dropped: 0\n"
     ]
    }
   ],
   "source": [
    "# horsepower has some missing ('?') values\n",
    "bad_rows = []\n",
    "for index, row in df_raw.iterrows():\n",
    "    if row['horsepower'] == \"?\":\n",
    "        bad_rows.append(index)\n",
    "df_raw = df_raw.drop(bad_rows)\n",
    "print(f\"dropped: {len(bad_rows)}\")"
   ],
   "metadata": {
    "collapsed": false
   }
  },
  {
   "cell_type": "code",
   "execution_count": 15,
   "outputs": [],
   "source": [
    "df_cont = df_raw.astype({\"horsepower\": 'int'})\n",
    "df_cat = df_raw.astype({\"horsepower\": 'int', \"year\": 'category'})"
   ],
   "metadata": {
    "collapsed": false
   }
  },
  {
   "cell_type": "code",
   "execution_count": 16,
   "outputs": [
    {
     "name": "stdout",
     "output_type": "stream",
     "text": [
      "train_MSE=36.872523775660405\n",
      "test_MSE=55.92917098803293\n",
      "\n",
      "train_MSE=35.05528733317721\n",
      "test_MSE=35.11147796060024\n",
      "\n"
     ]
    }
   ],
   "source": [
    "year_continuous_model = get_lin_reg_model(\"mpg ~ year\", df_cont, print_MSE=True)\n",
    "year_categorical_model = get_lin_reg_model(\"mpg ~ year\", df_cat, print_MSE=True)"
   ],
   "metadata": {
    "collapsed": false
   }
  },
  {
   "cell_type": "code",
   "execution_count": 17,
   "outputs": [
    {
     "data": {
      "text/plain": "<class 'statsmodels.iolib.summary.Summary'>\n\"\"\"\n                            OLS Regression Results                            \n==============================================================================\nDep. Variable:                    mpg   R-squared:                       0.364\nModel:                            OLS   Adj. R-squared:                  0.362\nMethod:                 Least Squares   F-statistic:                     182.4\nDate:                Mon, 12 Dec 2022   Prob (F-statistic):           3.52e-33\nTime:                        22:06:38   Log-Likelihood:                -1034.5\nNo. Observations:                 321   AIC:                             2073.\nDf Residuals:                     319   BIC:                             2080.\nDf Model:                           1                                         \nCovariance Type:            nonrobust                                         \n==============================================================================\n                 coef    std err          t      P>|t|      [0.025      0.975]\n------------------------------------------------------------------------------\nIntercept    -70.7609      6.967    -10.157      0.000     -84.467     -57.055\nyear           1.2373      0.092     13.504      0.000       1.057       1.418\n==============================================================================\nOmnibus:                       20.668   Durbin-Watson:                   0.886\nProb(Omnibus):                  0.000   Jarque-Bera (JB):               12.775\nSkew:                           0.345   Prob(JB):                      0.00168\nKurtosis:                       2.308   Cond. No.                     1.56e+03\n==============================================================================\n\nNotes:\n[1] Standard Errors assume that the covariance matrix of the errors is correctly specified.\n[2] The condition number is large, 1.56e+03. This might indicate that there are\nstrong multicollinearity or other numerical problems.\n\"\"\"",
      "text/html": "<table class=\"simpletable\">\n<caption>OLS Regression Results</caption>\n<tr>\n  <th>Dep. Variable:</th>           <td>mpg</td>       <th>  R-squared:         </th> <td>   0.364</td>\n</tr>\n<tr>\n  <th>Model:</th>                   <td>OLS</td>       <th>  Adj. R-squared:    </th> <td>   0.362</td>\n</tr>\n<tr>\n  <th>Method:</th>             <td>Least Squares</td>  <th>  F-statistic:       </th> <td>   182.4</td>\n</tr>\n<tr>\n  <th>Date:</th>             <td>Mon, 12 Dec 2022</td> <th>  Prob (F-statistic):</th> <td>3.52e-33</td>\n</tr>\n<tr>\n  <th>Time:</th>                 <td>22:06:38</td>     <th>  Log-Likelihood:    </th> <td> -1034.5</td>\n</tr>\n<tr>\n  <th>No. Observations:</th>      <td>   321</td>      <th>  AIC:               </th> <td>   2073.</td>\n</tr>\n<tr>\n  <th>Df Residuals:</th>          <td>   319</td>      <th>  BIC:               </th> <td>   2080.</td>\n</tr>\n<tr>\n  <th>Df Model:</th>              <td>     1</td>      <th>                     </th>     <td> </td>   \n</tr>\n<tr>\n  <th>Covariance Type:</th>      <td>nonrobust</td>    <th>                     </th>     <td> </td>   \n</tr>\n</table>\n<table class=\"simpletable\">\n<tr>\n      <td></td>         <th>coef</th>     <th>std err</th>      <th>t</th>      <th>P>|t|</th>  <th>[0.025</th>    <th>0.975]</th>  \n</tr>\n<tr>\n  <th>Intercept</th> <td>  -70.7609</td> <td>    6.967</td> <td>  -10.157</td> <td> 0.000</td> <td>  -84.467</td> <td>  -57.055</td>\n</tr>\n<tr>\n  <th>year</th>      <td>    1.2373</td> <td>    0.092</td> <td>   13.504</td> <td> 0.000</td> <td>    1.057</td> <td>    1.418</td>\n</tr>\n</table>\n<table class=\"simpletable\">\n<tr>\n  <th>Omnibus:</th>       <td>20.668</td> <th>  Durbin-Watson:     </th> <td>   0.886</td>\n</tr>\n<tr>\n  <th>Prob(Omnibus):</th> <td> 0.000</td> <th>  Jarque-Bera (JB):  </th> <td>  12.775</td>\n</tr>\n<tr>\n  <th>Skew:</th>          <td> 0.345</td> <th>  Prob(JB):          </th> <td> 0.00168</td>\n</tr>\n<tr>\n  <th>Kurtosis:</th>      <td> 2.308</td> <th>  Cond. No.          </th> <td>1.56e+03</td>\n</tr>\n</table><br/><br/>Notes:<br/>[1] Standard Errors assume that the covariance matrix of the errors is correctly specified.<br/>[2] The condition number is large, 1.56e+03. This might indicate that there are<br/>strong multicollinearity or other numerical problems."
     },
     "execution_count": 17,
     "metadata": {},
     "output_type": "execute_result"
    }
   ],
   "source": [
    "year_continuous_model.summary()"
   ],
   "metadata": {
    "collapsed": false
   }
  },
  {
   "cell_type": "code",
   "execution_count": 18,
   "outputs": [
    {
     "data": {
      "text/plain": "<class 'statsmodels.iolib.summary.Summary'>\n\"\"\"\n                            OLS Regression Results                            \n==============================================================================\nDep. Variable:                    mpg   R-squared:                       0.391\nModel:                            OLS   Adj. R-squared:                  0.365\nMethod:                 Least Squares   F-statistic:                     15.13\nDate:                Mon, 12 Dec 2022   Prob (F-statistic):           1.77e-24\nTime:                        22:06:40   Log-Likelihood:                -946.43\nNo. Observations:                 296   AIC:                             1919.\nDf Residuals:                     283   BIC:                             1967.\nDf Model:                          12                                         \nCovariance Type:            nonrobust                                         \n==============================================================================\n                 coef    std err          t      P>|t|      [0.025      0.975]\n------------------------------------------------------------------------------\nIntercept     17.3889      1.427     12.184      0.000      14.580      20.198\nyear[T.71]     3.5159      1.945      1.808      0.072      -0.313       7.344\nyear[T.72]     1.5635      1.945      0.804      0.422      -2.265       5.392\nyear[T.73]    -0.3007      1.765     -0.170      0.865      -3.775       3.174\nyear[T.74]     4.5202      1.924      2.349      0.020       0.732       8.308\nyear[T.75]     2.6481      1.843      1.437      0.152      -0.979       6.275\nyear[T.76]     4.1546      1.906      2.180      0.030       0.404       7.905\nyear[T.77]     7.2500      2.018      3.592      0.000       3.277      11.223\nyear[T.78]     7.0444      1.843      3.823      0.000       3.418      10.671\nyear[T.79]     8.0991      1.872      4.327      0.000       4.415      11.784\nyear[T.80]    15.0480      1.992      7.555      0.000      11.128      18.968\nyear[T.81]    12.2157      1.924      6.348      0.000       8.428      16.004\nyear[T.82]    13.7164      1.992      6.887      0.000       9.796      17.637\n==============================================================================\nOmnibus:                       16.690   Durbin-Watson:                   0.941\nProb(Omnibus):                  0.000   Jarque-Bera (JB):               12.118\nSkew:                           0.384   Prob(JB):                      0.00234\nKurtosis:                       2.372   Cond. No.                         15.6\n==============================================================================\n\nNotes:\n[1] Standard Errors assume that the covariance matrix of the errors is correctly specified.\n\"\"\"",
      "text/html": "<table class=\"simpletable\">\n<caption>OLS Regression Results</caption>\n<tr>\n  <th>Dep. Variable:</th>           <td>mpg</td>       <th>  R-squared:         </th> <td>   0.391</td>\n</tr>\n<tr>\n  <th>Model:</th>                   <td>OLS</td>       <th>  Adj. R-squared:    </th> <td>   0.365</td>\n</tr>\n<tr>\n  <th>Method:</th>             <td>Least Squares</td>  <th>  F-statistic:       </th> <td>   15.13</td>\n</tr>\n<tr>\n  <th>Date:</th>             <td>Mon, 12 Dec 2022</td> <th>  Prob (F-statistic):</th> <td>1.77e-24</td>\n</tr>\n<tr>\n  <th>Time:</th>                 <td>22:06:40</td>     <th>  Log-Likelihood:    </th> <td> -946.43</td>\n</tr>\n<tr>\n  <th>No. Observations:</th>      <td>   296</td>      <th>  AIC:               </th> <td>   1919.</td>\n</tr>\n<tr>\n  <th>Df Residuals:</th>          <td>   283</td>      <th>  BIC:               </th> <td>   1967.</td>\n</tr>\n<tr>\n  <th>Df Model:</th>              <td>    12</td>      <th>                     </th>     <td> </td>   \n</tr>\n<tr>\n  <th>Covariance Type:</th>      <td>nonrobust</td>    <th>                     </th>     <td> </td>   \n</tr>\n</table>\n<table class=\"simpletable\">\n<tr>\n       <td></td>         <th>coef</th>     <th>std err</th>      <th>t</th>      <th>P>|t|</th>  <th>[0.025</th>    <th>0.975]</th>  \n</tr>\n<tr>\n  <th>Intercept</th>  <td>   17.3889</td> <td>    1.427</td> <td>   12.184</td> <td> 0.000</td> <td>   14.580</td> <td>   20.198</td>\n</tr>\n<tr>\n  <th>year[T.71]</th> <td>    3.5159</td> <td>    1.945</td> <td>    1.808</td> <td> 0.072</td> <td>   -0.313</td> <td>    7.344</td>\n</tr>\n<tr>\n  <th>year[T.72]</th> <td>    1.5635</td> <td>    1.945</td> <td>    0.804</td> <td> 0.422</td> <td>   -2.265</td> <td>    5.392</td>\n</tr>\n<tr>\n  <th>year[T.73]</th> <td>   -0.3007</td> <td>    1.765</td> <td>   -0.170</td> <td> 0.865</td> <td>   -3.775</td> <td>    3.174</td>\n</tr>\n<tr>\n  <th>year[T.74]</th> <td>    4.5202</td> <td>    1.924</td> <td>    2.349</td> <td> 0.020</td> <td>    0.732</td> <td>    8.308</td>\n</tr>\n<tr>\n  <th>year[T.75]</th> <td>    2.6481</td> <td>    1.843</td> <td>    1.437</td> <td> 0.152</td> <td>   -0.979</td> <td>    6.275</td>\n</tr>\n<tr>\n  <th>year[T.76]</th> <td>    4.1546</td> <td>    1.906</td> <td>    2.180</td> <td> 0.030</td> <td>    0.404</td> <td>    7.905</td>\n</tr>\n<tr>\n  <th>year[T.77]</th> <td>    7.2500</td> <td>    2.018</td> <td>    3.592</td> <td> 0.000</td> <td>    3.277</td> <td>   11.223</td>\n</tr>\n<tr>\n  <th>year[T.78]</th> <td>    7.0444</td> <td>    1.843</td> <td>    3.823</td> <td> 0.000</td> <td>    3.418</td> <td>   10.671</td>\n</tr>\n<tr>\n  <th>year[T.79]</th> <td>    8.0991</td> <td>    1.872</td> <td>    4.327</td> <td> 0.000</td> <td>    4.415</td> <td>   11.784</td>\n</tr>\n<tr>\n  <th>year[T.80]</th> <td>   15.0480</td> <td>    1.992</td> <td>    7.555</td> <td> 0.000</td> <td>   11.128</td> <td>   18.968</td>\n</tr>\n<tr>\n  <th>year[T.81]</th> <td>   12.2157</td> <td>    1.924</td> <td>    6.348</td> <td> 0.000</td> <td>    8.428</td> <td>   16.004</td>\n</tr>\n<tr>\n  <th>year[T.82]</th> <td>   13.7164</td> <td>    1.992</td> <td>    6.887</td> <td> 0.000</td> <td>    9.796</td> <td>   17.637</td>\n</tr>\n</table>\n<table class=\"simpletable\">\n<tr>\n  <th>Omnibus:</th>       <td>16.690</td> <th>  Durbin-Watson:     </th> <td>   0.941</td>\n</tr>\n<tr>\n  <th>Prob(Omnibus):</th> <td> 0.000</td> <th>  Jarque-Bera (JB):  </th> <td>  12.118</td>\n</tr>\n<tr>\n  <th>Skew:</th>          <td> 0.384</td> <th>  Prob(JB):          </th> <td> 0.00234</td>\n</tr>\n<tr>\n  <th>Kurtosis:</th>      <td> 2.372</td> <th>  Cond. No.          </th> <td>    15.6</td>\n</tr>\n</table><br/><br/>Notes:<br/>[1] Standard Errors assume that the covariance matrix of the errors is correctly specified."
     },
     "execution_count": 18,
     "metadata": {},
     "output_type": "execute_result"
    }
   ],
   "source": [
    "year_categorical_model.summary()"
   ],
   "metadata": {
    "collapsed": false
   }
  },
  {
   "cell_type": "code",
   "execution_count": 19,
   "outputs": [
    {
     "name": "stdout",
     "output_type": "stream",
     "text": [
      "0      70\n",
      "1      70\n",
      "2      70\n",
      "3      70\n",
      "4      70\n",
      "       ..\n",
      "392    82\n",
      "393    82\n",
      "394    82\n",
      "395    82\n",
      "396    82\n",
      "Name: year, Length: 392, dtype: category\n",
      "Categories (13, int64): [70, 71, 72, 73, ..., 79, 80, 81, 82]\n"
     ]
    }
   ],
   "source": [
    "print(df_cat['year'])"
   ],
   "metadata": {
    "collapsed": false
   }
  },
  {
   "cell_type": "code",
   "execution_count": null,
   "outputs": [],
   "source": [],
   "metadata": {
    "collapsed": false
   }
  }
 ],
 "metadata": {
  "kernelspec": {
   "display_name": "Python 3",
   "language": "python",
   "name": "python3"
  },
  "language_info": {
   "codemirror_mode": {
    "name": "ipython",
    "version": 2
   },
   "file_extension": ".py",
   "mimetype": "text/x-python",
   "name": "python",
   "nbconvert_exporter": "python",
   "pygments_lexer": "ipython2",
   "version": "2.7.6"
  }
 },
 "nbformat": 4,
 "nbformat_minor": 0
}

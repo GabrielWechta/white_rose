{
 "cells": [
  {
   "cell_type": "code",
   "execution_count": 46,
   "metadata": {
    "collapsed": true
   },
   "outputs": [],
   "source": [
    "from pprint import pprint\n",
    "\n",
    "import matplotlib.pyplot as plt\n",
    "import numpy as np\n",
    "import pandas as pd\n",
    "import statsmodels.api as sm\n",
    "# import seaborn as sns\n",
    "from patsy import dmatrices\n",
    "from sklearn import metrics\n",
    "\n",
    "np.random.seed(1)"
   ]
  },
  {
   "cell_type": "code",
   "execution_count": 60,
   "outputs": [],
   "source": [
    "def get_lin_reg_model(model_formula, df_in, print_MSE=False, return_MSE=False):\n",
    "    \"\"\"\n",
    "    Function returns the summary for fitted linear model.\n",
    "\n",
    "    Parameter \"model_formula\" should be a patsy formula describing the model.\n",
    "    Parameter \"df\" is a dataframe.\n",
    "    \"\"\"\n",
    "\n",
    "    # Split the data into training (80%) and validation set (20%)\n",
    "    mask = np.random.rand(len(df_in)) < 0.8\n",
    "    train = df_in[mask]\n",
    "    valid = df_in[~mask]\n",
    "\n",
    "    # Prepare the data (dmatrices is from patsy library)\n",
    "    y_train, X_train = dmatrices(model_formula, data=train, return_type='dataframe')\n",
    "    y_valid, X_valid = dmatrices(model_formula, data=valid, return_type='dataframe')\n",
    "\n",
    "    # Train the model\n",
    "    model = sm.OLS(y_train, X_train)\n",
    "    fitted_model = model.fit()\n",
    "    y_train_pred = fitted_model.predict(X_train)\n",
    "    train_MSE = metrics.mean_squared_error(y_train, y_train_pred)\n",
    "    y_valid_pred = fitted_model.predict(X_valid)\n",
    "    test_MSE = metrics.mean_squared_error(y_valid, y_valid_pred)\n",
    "\n",
    "    if print_MSE is True:\n",
    "        # Show MSE for training set\n",
    "        print(f'{train_MSE=}')\n",
    "\n",
    "        # Show MSE for validation set\n",
    "        print(f'{test_MSE=}\\n')\n",
    "\n",
    "    # Return fitted model\n",
    "    if return_MSE is True:\n",
    "        return fitted_model, train_MSE, test_MSE\n",
    "    else:\n",
    "        return fitted_model"
   ],
   "metadata": {
    "collapsed": false
   }
  },
  {
   "cell_type": "code",
   "execution_count": 61,
   "outputs": [],
   "source": [
    "PATH = \"lab/data/\"\n",
    "df_raw = pd.read_csv(f'{PATH}Auto.csv')"
   ],
   "metadata": {
    "collapsed": false
   }
  },
  {
   "cell_type": "code",
   "execution_count": 62,
   "outputs": [
    {
     "data": {
      "text/plain": "mpg             0\ncylinders       0\ndisplacement    0\nhorsepower      0\nweight          0\nacceleration    0\nyear            0\norigin          0\nname            0\ndtype: int64"
     },
     "execution_count": 62,
     "metadata": {},
     "output_type": "execute_result"
    }
   ],
   "source": [
    "df_raw.isnull().sum()\n"
   ],
   "metadata": {
    "collapsed": false
   }
  },
  {
   "cell_type": "code",
   "execution_count": 63,
   "outputs": [
    {
     "name": "stdout",
     "output_type": "stream",
     "text": [
      "dropped: 5\n"
     ]
    }
   ],
   "source": [
    "# horsepower has some missing ('?') values\n",
    "bad_rows = []\n",
    "for index, row in df_raw.iterrows():\n",
    "    if row['horsepower'] == \"?\":\n",
    "        bad_rows.append(index)\n",
    "df_raw = df_raw.drop(bad_rows)\n",
    "print(f\"dropped: {len(bad_rows)}\")"
   ],
   "metadata": {
    "collapsed": false
   }
  },
  {
   "cell_type": "code",
   "execution_count": 64,
   "outputs": [],
   "source": [
    "df_cont = df_raw.astype({\"horsepower\": 'int'})\n",
    "df_cat = df_raw.astype({\"horsepower\": 'int', \"year\": 'category'})"
   ],
   "metadata": {
    "collapsed": false
   }
  },
  {
   "cell_type": "code",
   "execution_count": 65,
   "outputs": [
    {
     "name": "stdout",
     "output_type": "stream",
     "text": [
      "train_MSE=39.6751221984536\n",
      "test_MSE=43.28152633337354\n",
      "\n",
      "train_MSE=33.12762922434946\n",
      "test_MSE=43.60249855609495\n",
      "\n"
     ]
    }
   ],
   "source": [
    "year_continuous_model = get_lin_reg_model(\"mpg ~ year\", df_cont, print_MSE=True)\n",
    "year_categorical_model = get_lin_reg_model(\"mpg ~ year\", df_cat, print_MSE=True)"
   ],
   "metadata": {
    "collapsed": false
   }
  },
  {
   "cell_type": "code",
   "execution_count": 66,
   "outputs": [
    {
     "data": {
      "text/plain": "<class 'statsmodels.iolib.summary.Summary'>\n\"\"\"\n                            OLS Regression Results                            \n==============================================================================\nDep. Variable:                    mpg   R-squared:                       0.349\nModel:                            OLS   Adj. R-squared:                  0.347\nMethod:                 Least Squares   F-statistic:                     172.8\nDate:                Tue, 06 Dec 2022   Prob (F-statistic):           6.75e-32\nTime:                        21:55:32   Log-Likelihood:                -1056.0\nNo. Observations:                 324   AIC:                             2116.\nDf Residuals:                     322   BIC:                             2124.\nDf Model:                           1                                         \nCovariance Type:            nonrobust                                         \n==============================================================================\n                 coef    std err          t      P>|t|      [0.025      0.975]\n------------------------------------------------------------------------------\nIntercept    -72.6835      7.307     -9.947      0.000     -87.059     -58.308\nyear           1.2651      0.096     13.147      0.000       1.076       1.454\n==============================================================================\nOmnibus:                       19.746   Durbin-Watson:                   0.866\nProb(Omnibus):                  0.000   Jarque-Bera (JB):               15.898\nSkew:                           0.452   Prob(JB):                     0.000353\nKurtosis:                       2.400   Cond. No.                     1.58e+03\n==============================================================================\n\nNotes:\n[1] Standard Errors assume that the covariance matrix of the errors is correctly specified.\n[2] The condition number is large, 1.58e+03. This might indicate that there are\nstrong multicollinearity or other numerical problems.\n\"\"\"",
      "text/html": "<table class=\"simpletable\">\n<caption>OLS Regression Results</caption>\n<tr>\n  <th>Dep. Variable:</th>           <td>mpg</td>       <th>  R-squared:         </th> <td>   0.349</td>\n</tr>\n<tr>\n  <th>Model:</th>                   <td>OLS</td>       <th>  Adj. R-squared:    </th> <td>   0.347</td>\n</tr>\n<tr>\n  <th>Method:</th>             <td>Least Squares</td>  <th>  F-statistic:       </th> <td>   172.8</td>\n</tr>\n<tr>\n  <th>Date:</th>             <td>Tue, 06 Dec 2022</td> <th>  Prob (F-statistic):</th> <td>6.75e-32</td>\n</tr>\n<tr>\n  <th>Time:</th>                 <td>21:55:32</td>     <th>  Log-Likelihood:    </th> <td> -1056.0</td>\n</tr>\n<tr>\n  <th>No. Observations:</th>      <td>   324</td>      <th>  AIC:               </th> <td>   2116.</td>\n</tr>\n<tr>\n  <th>Df Residuals:</th>          <td>   322</td>      <th>  BIC:               </th> <td>   2124.</td>\n</tr>\n<tr>\n  <th>Df Model:</th>              <td>     1</td>      <th>                     </th>     <td> </td>   \n</tr>\n<tr>\n  <th>Covariance Type:</th>      <td>nonrobust</td>    <th>                     </th>     <td> </td>   \n</tr>\n</table>\n<table class=\"simpletable\">\n<tr>\n      <td></td>         <th>coef</th>     <th>std err</th>      <th>t</th>      <th>P>|t|</th>  <th>[0.025</th>    <th>0.975]</th>  \n</tr>\n<tr>\n  <th>Intercept</th> <td>  -72.6835</td> <td>    7.307</td> <td>   -9.947</td> <td> 0.000</td> <td>  -87.059</td> <td>  -58.308</td>\n</tr>\n<tr>\n  <th>year</th>      <td>    1.2651</td> <td>    0.096</td> <td>   13.147</td> <td> 0.000</td> <td>    1.076</td> <td>    1.454</td>\n</tr>\n</table>\n<table class=\"simpletable\">\n<tr>\n  <th>Omnibus:</th>       <td>19.746</td> <th>  Durbin-Watson:     </th> <td>   0.866</td>\n</tr>\n<tr>\n  <th>Prob(Omnibus):</th> <td> 0.000</td> <th>  Jarque-Bera (JB):  </th> <td>  15.898</td>\n</tr>\n<tr>\n  <th>Skew:</th>          <td> 0.452</td> <th>  Prob(JB):          </th> <td>0.000353</td>\n</tr>\n<tr>\n  <th>Kurtosis:</th>      <td> 2.400</td> <th>  Cond. No.          </th> <td>1.58e+03</td>\n</tr>\n</table><br/><br/>Notes:<br/>[1] Standard Errors assume that the covariance matrix of the errors is correctly specified.<br/>[2] The condition number is large, 1.58e+03. This might indicate that there are<br/>strong multicollinearity or other numerical problems."
     },
     "execution_count": 66,
     "metadata": {},
     "output_type": "execute_result"
    }
   ],
   "source": [
    "year_continuous_model.summary()"
   ],
   "metadata": {
    "collapsed": false
   }
  },
  {
   "cell_type": "code",
   "execution_count": 67,
   "outputs": [
    {
     "data": {
      "text/plain": "<class 'statsmodels.iolib.summary.Summary'>\n\"\"\"\n                            OLS Regression Results                            \n==============================================================================\nDep. Variable:                    mpg   R-squared:                       0.463\nModel:                            OLS   Adj. R-squared:                  0.442\nMethod:                 Least Squares   F-statistic:                     21.70\nDate:                Tue, 06 Dec 2022   Prob (F-statistic):           2.67e-34\nTime:                        21:55:48   Log-Likelihood:                -998.27\nNo. Observations:                 315   AIC:                             2023.\nDf Residuals:                     302   BIC:                             2071.\nDf Model:                          12                                         \nCovariance Type:            nonrobust                                         \n==============================================================================\n                 coef    std err          t      P>|t|      [0.025      0.975]\n------------------------------------------------------------------------------\nIntercept     17.8333      1.200     14.862      0.000      15.472      20.195\nyear[T.71]     3.6884      1.715      2.150      0.032       0.313       7.064\nyear[T.72]     0.2619      1.756      0.149      0.882      -3.195       3.718\nyear[T.73]    -1.7667      1.610     -1.097      0.273      -4.935       1.401\nyear[T.74]     5.1232      1.715      2.987      0.003       1.748       8.499\nyear[T.75]     2.2037      1.649      1.336      0.182      -1.041       5.449\nyear[T.76]     3.5000      1.610      2.174      0.030       0.332       6.668\nyear[T.77]     6.3867      1.680      3.802      0.000       3.081       9.692\nyear[T.78]     5.6148      1.649      3.405      0.001       2.370       8.860\nyear[T.79]     8.4877      1.805      4.702      0.000       4.936      12.040\nyear[T.80]    17.4000      1.756      9.906      0.000      13.944      20.856\nyear[T.81]    11.7076      1.735      6.748      0.000       8.293      15.122\nyear[T.82]    13.8623      1.715      8.082      0.000      10.487      17.238\n==============================================================================\nOmnibus:                       12.859   Durbin-Watson:                   1.016\nProb(Omnibus):                  0.002   Jarque-Bera (JB):               11.234\nSkew:                           0.391   Prob(JB):                      0.00364\nKurtosis:                       2.505   Cond. No.                         14.0\n==============================================================================\n\nNotes:\n[1] Standard Errors assume that the covariance matrix of the errors is correctly specified.\n\"\"\"",
      "text/html": "<table class=\"simpletable\">\n<caption>OLS Regression Results</caption>\n<tr>\n  <th>Dep. Variable:</th>           <td>mpg</td>       <th>  R-squared:         </th> <td>   0.463</td>\n</tr>\n<tr>\n  <th>Model:</th>                   <td>OLS</td>       <th>  Adj. R-squared:    </th> <td>   0.442</td>\n</tr>\n<tr>\n  <th>Method:</th>             <td>Least Squares</td>  <th>  F-statistic:       </th> <td>   21.70</td>\n</tr>\n<tr>\n  <th>Date:</th>             <td>Tue, 06 Dec 2022</td> <th>  Prob (F-statistic):</th> <td>2.67e-34</td>\n</tr>\n<tr>\n  <th>Time:</th>                 <td>21:55:48</td>     <th>  Log-Likelihood:    </th> <td> -998.27</td>\n</tr>\n<tr>\n  <th>No. Observations:</th>      <td>   315</td>      <th>  AIC:               </th> <td>   2023.</td>\n</tr>\n<tr>\n  <th>Df Residuals:</th>          <td>   302</td>      <th>  BIC:               </th> <td>   2071.</td>\n</tr>\n<tr>\n  <th>Df Model:</th>              <td>    12</td>      <th>                     </th>     <td> </td>   \n</tr>\n<tr>\n  <th>Covariance Type:</th>      <td>nonrobust</td>    <th>                     </th>     <td> </td>   \n</tr>\n</table>\n<table class=\"simpletable\">\n<tr>\n       <td></td>         <th>coef</th>     <th>std err</th>      <th>t</th>      <th>P>|t|</th>  <th>[0.025</th>    <th>0.975]</th>  \n</tr>\n<tr>\n  <th>Intercept</th>  <td>   17.8333</td> <td>    1.200</td> <td>   14.862</td> <td> 0.000</td> <td>   15.472</td> <td>   20.195</td>\n</tr>\n<tr>\n  <th>year[T.71]</th> <td>    3.6884</td> <td>    1.715</td> <td>    2.150</td> <td> 0.032</td> <td>    0.313</td> <td>    7.064</td>\n</tr>\n<tr>\n  <th>year[T.72]</th> <td>    0.2619</td> <td>    1.756</td> <td>    0.149</td> <td> 0.882</td> <td>   -3.195</td> <td>    3.718</td>\n</tr>\n<tr>\n  <th>year[T.73]</th> <td>   -1.7667</td> <td>    1.610</td> <td>   -1.097</td> <td> 0.273</td> <td>   -4.935</td> <td>    1.401</td>\n</tr>\n<tr>\n  <th>year[T.74]</th> <td>    5.1232</td> <td>    1.715</td> <td>    2.987</td> <td> 0.003</td> <td>    1.748</td> <td>    8.499</td>\n</tr>\n<tr>\n  <th>year[T.75]</th> <td>    2.2037</td> <td>    1.649</td> <td>    1.336</td> <td> 0.182</td> <td>   -1.041</td> <td>    5.449</td>\n</tr>\n<tr>\n  <th>year[T.76]</th> <td>    3.5000</td> <td>    1.610</td> <td>    2.174</td> <td> 0.030</td> <td>    0.332</td> <td>    6.668</td>\n</tr>\n<tr>\n  <th>year[T.77]</th> <td>    6.3867</td> <td>    1.680</td> <td>    3.802</td> <td> 0.000</td> <td>    3.081</td> <td>    9.692</td>\n</tr>\n<tr>\n  <th>year[T.78]</th> <td>    5.6148</td> <td>    1.649</td> <td>    3.405</td> <td> 0.001</td> <td>    2.370</td> <td>    8.860</td>\n</tr>\n<tr>\n  <th>year[T.79]</th> <td>    8.4877</td> <td>    1.805</td> <td>    4.702</td> <td> 0.000</td> <td>    4.936</td> <td>   12.040</td>\n</tr>\n<tr>\n  <th>year[T.80]</th> <td>   17.4000</td> <td>    1.756</td> <td>    9.906</td> <td> 0.000</td> <td>   13.944</td> <td>   20.856</td>\n</tr>\n<tr>\n  <th>year[T.81]</th> <td>   11.7076</td> <td>    1.735</td> <td>    6.748</td> <td> 0.000</td> <td>    8.293</td> <td>   15.122</td>\n</tr>\n<tr>\n  <th>year[T.82]</th> <td>   13.8623</td> <td>    1.715</td> <td>    8.082</td> <td> 0.000</td> <td>   10.487</td> <td>   17.238</td>\n</tr>\n</table>\n<table class=\"simpletable\">\n<tr>\n  <th>Omnibus:</th>       <td>12.859</td> <th>  Durbin-Watson:     </th> <td>   1.016</td>\n</tr>\n<tr>\n  <th>Prob(Omnibus):</th> <td> 0.002</td> <th>  Jarque-Bera (JB):  </th> <td>  11.234</td>\n</tr>\n<tr>\n  <th>Skew:</th>          <td> 0.391</td> <th>  Prob(JB):          </th> <td> 0.00364</td>\n</tr>\n<tr>\n  <th>Kurtosis:</th>      <td> 2.505</td> <th>  Cond. No.          </th> <td>    14.0</td>\n</tr>\n</table><br/><br/>Notes:<br/>[1] Standard Errors assume that the covariance matrix of the errors is correctly specified."
     },
     "execution_count": 67,
     "metadata": {},
     "output_type": "execute_result"
    }
   ],
   "source": [
    "year_categorical_model.summary()"
   ],
   "metadata": {
    "collapsed": false
   }
  },
  {
   "cell_type": "code",
   "execution_count": 68,
   "outputs": [
    {
     "name": "stdout",
     "output_type": "stream",
     "text": [
      "0      70\n",
      "1      70\n",
      "2      70\n",
      "3      70\n",
      "4      70\n",
      "       ..\n",
      "392    82\n",
      "393    82\n",
      "394    82\n",
      "395    82\n",
      "396    82\n",
      "Name: year, Length: 392, dtype: category\n",
      "Categories (13, int64): [70, 71, 72, 73, ..., 79, 80, 81, 82]\n"
     ]
    }
   ],
   "source": [
    "print(df_cat['year'])"
   ],
   "metadata": {
    "collapsed": false
   }
  },
  {
   "cell_type": "code",
   "execution_count": null,
   "outputs": [],
   "source": [],
   "metadata": {
    "collapsed": false
   }
  }
 ],
 "metadata": {
  "kernelspec": {
   "display_name": "Python 3",
   "language": "python",
   "name": "python3"
  },
  "language_info": {
   "codemirror_mode": {
    "name": "ipython",
    "version": 2
   },
   "file_extension": ".py",
   "mimetype": "text/x-python",
   "name": "python",
   "nbconvert_exporter": "python",
   "pygments_lexer": "ipython2",
   "version": "2.7.6"
  }
 },
 "nbformat": 4,
 "nbformat_minor": 0
}

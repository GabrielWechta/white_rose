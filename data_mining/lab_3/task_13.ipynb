{
 "cells": [
  {
   "cell_type": "code",
   "execution_count": 1,
   "metadata": {
    "collapsed": true
   },
   "outputs": [],
   "source": [
    "import numpy as np\n",
    "import pandas as pd\n",
    "from sklearn.ensemble import RandomForestClassifier\n",
    "from sklearn.model_selection import KFold\n",
    "from sklearn.neighbors import KNeighborsClassifier\n",
    "from sklearn.tree import DecisionTreeClassifier\n",
    "\n",
    "np.random.seed(1)"
   ]
  },
  {
   "cell_type": "code",
   "execution_count": 2,
   "outputs": [],
   "source": [
    "PATH = \"lab/data/\"\n",
    "df_ari_raw = pd.read_csv(f'{PATH}Credit.csv')\n",
    "df_ari_raw = df_ari_raw.drop(\"Unnamed: 0\", axis=1)\n",
    "df_ari = pd.get_dummies(df_ari_raw)\n",
    "df_ari_y = df_ari.apply(lambda row: 1 if row['Income'] > 50 else 0, axis=1)  # making new column"
   ],
   "metadata": {
    "collapsed": false
   }
  },
  {
   "cell_type": "markdown",
   "source": [
    "## a) K-Nearest Neighbors Classifier & Decision Trees"
   ],
   "metadata": {
    "collapsed": false
   }
  },
  {
   "cell_type": "code",
   "execution_count": 3,
   "outputs": [],
   "source": [
    "kf = KFold(n_splits=5, shuffle=True, random_state=2)"
   ],
   "metadata": {
    "collapsed": false
   }
  },
  {
   "cell_type": "code",
   "execution_count": 4,
   "outputs": [],
   "source": [
    "def perform_classifier_routine(classifier_class, X_train, y_train, X_test, y_test, verbose, **kwargs):\n",
    "    classifier = classifier_class(**kwargs)\n",
    "    classifier.fit(X_train, y_train)\n",
    "    score = classifier.score(X_test, y_test)\n",
    "    if verbose is True:\n",
    "        print(f\"{kwargs=}, {score=}\")\n",
    "    return classifier, score\n",
    "\n",
    "\n",
    "def get_best_classifier(X_train, y_train, X_test, y_test, verbose):\n",
    "    best_score = -1\n",
    "    for neighbours in range(1, 10):\n",
    "        knn, new_score = perform_classifier_routine(KNeighborsClassifier, X_train, y_train, X_test, y_test, verbose,\n",
    "                                                    n_neighbors=neighbours)\n",
    "        if new_score > best_score:\n",
    "            best_neighbours = neighbours\n",
    "            best_score = new_score\n",
    "            best_knn = knn\n",
    "    print(f\"{best_neighbours=} with {best_score=}\")\n",
    "\n",
    "    best_score = -1\n",
    "    for depth in range(1, 10):\n",
    "        dt, new_score = perform_classifier_routine(DecisionTreeClassifier, X_train, y_train, X_test, y_test, verbose,\n",
    "                                                   max_depth=depth)\n",
    "        if new_score > best_score:\n",
    "            best_depth = depth\n",
    "            best_score = new_score\n",
    "            best_dt = dt\n",
    "    print(f\"{best_depth=} with {best_score=}\")\n",
    "\n",
    "    best_score = -1\n",
    "    for estimators in [10, 25, 50, 100, 200]:\n",
    "        rf, new_score = perform_classifier_routine(RandomForestClassifier, X_train, y_train, X_test, y_test, verbose,\n",
    "                                                   n_estimators=estimators)\n",
    "        if new_score > best_score:\n",
    "            best_estimators = estimators\n",
    "            best_score = new_score\n",
    "            best_rf = rf\n",
    "    print(f\"{best_estimators=} with {best_score=}\")\n",
    "\n",
    "\n",
    "def find_best_classifier(data_frame, data_frame_y, verbose=True):\n",
    "    for i, (train_index, test_index) in enumerate(kf.split(data_frame)):\n",
    "        print(f\"{i}-th fold:\")\n",
    "        X_train, X_test = data_frame.iloc[train_index], data_frame.iloc[test_index]\n",
    "        y_train, y_test = data_frame_y.iloc[train_index], data_frame_y.iloc[test_index]\n",
    "\n",
    "        get_best_classifier(X_train, y_train, X_test, y_test, verbose)\n",
    "        print()\n",
    "\n"
   ],
   "metadata": {
    "collapsed": false
   }
  },
  {
   "cell_type": "code",
   "execution_count": 5,
   "outputs": [
    {
     "name": "stdout",
     "output_type": "stream",
     "text": [
      "0-th fold:\n",
      "best_neighbours=1 with best_score=0.925\n",
      "best_depth=1 with best_score=1.0\n",
      "best_estimators=10 with best_score=1.0\n",
      "\n",
      "1-th fold:\n",
      "best_neighbours=2 with best_score=0.9625\n",
      "best_depth=1 with best_score=1.0\n",
      "best_estimators=10 with best_score=1.0\n",
      "\n",
      "2-th fold:\n",
      "best_neighbours=3 with best_score=0.925\n",
      "best_depth=1 with best_score=1.0\n",
      "best_estimators=25 with best_score=1.0\n",
      "\n",
      "3-th fold:\n",
      "best_neighbours=2 with best_score=0.9625\n",
      "best_depth=1 with best_score=1.0\n",
      "best_estimators=10 with best_score=1.0\n",
      "\n",
      "4-th fold:\n",
      "best_neighbours=3 with best_score=0.9625\n",
      "best_depth=1 with best_score=1.0\n",
      "best_estimators=10 with best_score=1.0\n",
      "\n"
     ]
    }
   ],
   "source": [
    "find_best_classifier(df_ari, df_ari_y, verbose=False)"
   ],
   "metadata": {
    "collapsed": false
   }
  },
  {
   "cell_type": "markdown",
   "source": [
    "## b) K-Nearest Neighbors Classifier & Decision Trees"
   ],
   "metadata": {
    "collapsed": false
   }
  },
  {
   "cell_type": "code",
   "execution_count": 26,
   "outputs": [
    {
     "name": "stdout",
     "output_type": "stream",
     "text": [
      "Model test score:  0.325\n"
     ]
    }
   ],
   "source": [
    "PATH = \"lab/data/\"\n",
    "df_cards_raw = pd.read_csv(f'{PATH}Credit.csv')\n",
    "df_cards = df_cards_raw.drop(\"Unnamed: 0\", axis=1)\n",
    "df_cards = pd.get_dummies(df_cards)  # one hot encoding for category data\n",
    "df_cards_y = df_cards.pop('Cards')"
   ],
   "metadata": {
    "collapsed": false
   }
  },
  {
   "cell_type": "code",
   "execution_count": 40,
   "outputs": [
    {
     "name": "stdout",
     "output_type": "stream",
     "text": [
      "0-th fold:\n",
      "best_neighbours=2\n",
      "best_depth=1\n",
      "\n",
      "1-th fold:\n",
      "best_neighbours=1\n",
      "best_depth=3\n",
      "\n",
      "2-th fold:\n",
      "best_neighbours=7\n",
      "best_depth=7\n",
      "\n",
      "3-th fold:\n",
      "best_neighbours=8\n",
      "best_depth=7\n",
      "\n",
      "4-th fold:\n",
      "best_neighbours=3\n",
      "best_depth=1\n",
      "\n"
     ]
    }
   ],
   "source": [
    "find_best_classifier(df_cards, df_cards_y, verbose=False)"
   ],
   "metadata": {
    "collapsed": false
   }
  },
  {
   "cell_type": "code",
   "execution_count": null,
   "outputs": [],
   "source": [],
   "metadata": {
    "collapsed": false
   }
  }
 ],
 "metadata": {
  "kernelspec": {
   "display_name": "Python 3",
   "language": "python",
   "name": "python3"
  },
  "language_info": {
   "codemirror_mode": {
    "name": "ipython",
    "version": 2
   },
   "file_extension": ".py",
   "mimetype": "text/x-python",
   "name": "python",
   "nbconvert_exporter": "python",
   "pygments_lexer": "ipython2",
   "version": "2.7.6"
  }
 },
 "nbformat": 4,
 "nbformat_minor": 0
}

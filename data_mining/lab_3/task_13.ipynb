{
 "cells": [
  {
   "cell_type": "code",
   "execution_count": 61,
   "metadata": {
    "collapsed": true
   },
   "outputs": [],
   "source": [
    "import numpy as np\n",
    "import pandas as pd\n",
    "from matplotlib import pyplot as plt\n",
    "from sklearn.inspection import DecisionBoundaryDisplay\n",
    "from sklearn.linear_model import LogisticRegression\n",
    "from sklearn.model_selection import train_test_split, KFold\n",
    "from sklearn.neighbors import KNeighborsClassifier\n",
    "from sklearn.tree import DecisionTreeClassifier\n",
    "\n",
    "np.random.seed(1)"
   ]
  },
  {
   "cell_type": "code",
   "execution_count": 19,
   "outputs": [],
   "source": [
    "PATH = \"lab/data/\"\n",
    "df_raw = pd.read_csv(f'{PATH}Credit.csv')\n",
    "df_raw = df_raw.drop(\"Unnamed: 0\", axis=1)\n",
    "df = pd.get_dummies(df_raw)\n",
    "df_ari = pd.get_dummies(df_raw)\n",
    "y = df_ari.apply(lambda row: 1 if row['Income'] > 50 else 0, axis=1)  # making new column"
   ],
   "metadata": {
    "collapsed": false
   }
  },
  {
   "cell_type": "markdown",
   "source": [
    "## KNeighborsClassifier"
   ],
   "metadata": {
    "collapsed": false
   }
  },
  {
   "cell_type": "code",
   "execution_count": 35,
   "outputs": [],
   "source": [
    "kf = KFold(n_splits=5, shuffle=True, random_state=2)"
   ],
   "metadata": {
    "collapsed": false
   }
  },
  {
   "cell_type": "code",
   "execution_count": 57,
   "outputs": [
    {
     "data": {
      "text/plain": "    Income  Limit  Rating  Cards  Age  Education  Balance  Gender_ Male  \\\n0   14.891   3606     283      2   34         11      333             1   \n1  106.025   6645     483      3   82         15      903             0   \n2  104.593   7075     514      4   71         11      580             1   \n3  148.924   9504     681      3   36         11      964             0   \n4   55.882   4897     357      2   68         16      331             1   \n\n   Gender_Female  Student_No  Student_Yes  Married_No  Married_Yes  \\\n0              0           1            0           0            1   \n1              1           0            1           0            1   \n2              0           1            0           1            0   \n3              1           1            0           1            0   \n4              0           1            0           0            1   \n\n   Ethnicity_African American  Ethnicity_Asian  Ethnicity_Caucasian  \n0                           0                0                    1  \n1                           0                1                    0  \n2                           0                1                    0  \n3                           0                1                    0  \n4                           0                0                    1  ",
      "text/html": "<div>\n<style scoped>\n    .dataframe tbody tr th:only-of-type {\n        vertical-align: middle;\n    }\n\n    .dataframe tbody tr th {\n        vertical-align: top;\n    }\n\n    .dataframe thead th {\n        text-align: right;\n    }\n</style>\n<table border=\"1\" class=\"dataframe\">\n  <thead>\n    <tr style=\"text-align: right;\">\n      <th></th>\n      <th>Income</th>\n      <th>Limit</th>\n      <th>Rating</th>\n      <th>Cards</th>\n      <th>Age</th>\n      <th>Education</th>\n      <th>Balance</th>\n      <th>Gender_ Male</th>\n      <th>Gender_Female</th>\n      <th>Student_No</th>\n      <th>Student_Yes</th>\n      <th>Married_No</th>\n      <th>Married_Yes</th>\n      <th>Ethnicity_African American</th>\n      <th>Ethnicity_Asian</th>\n      <th>Ethnicity_Caucasian</th>\n    </tr>\n  </thead>\n  <tbody>\n    <tr>\n      <th>0</th>\n      <td>14.891</td>\n      <td>3606</td>\n      <td>283</td>\n      <td>2</td>\n      <td>34</td>\n      <td>11</td>\n      <td>333</td>\n      <td>1</td>\n      <td>0</td>\n      <td>1</td>\n      <td>0</td>\n      <td>0</td>\n      <td>1</td>\n      <td>0</td>\n      <td>0</td>\n      <td>1</td>\n    </tr>\n    <tr>\n      <th>1</th>\n      <td>106.025</td>\n      <td>6645</td>\n      <td>483</td>\n      <td>3</td>\n      <td>82</td>\n      <td>15</td>\n      <td>903</td>\n      <td>0</td>\n      <td>1</td>\n      <td>0</td>\n      <td>1</td>\n      <td>0</td>\n      <td>1</td>\n      <td>0</td>\n      <td>1</td>\n      <td>0</td>\n    </tr>\n    <tr>\n      <th>2</th>\n      <td>104.593</td>\n      <td>7075</td>\n      <td>514</td>\n      <td>4</td>\n      <td>71</td>\n      <td>11</td>\n      <td>580</td>\n      <td>1</td>\n      <td>0</td>\n      <td>1</td>\n      <td>0</td>\n      <td>1</td>\n      <td>0</td>\n      <td>0</td>\n      <td>1</td>\n      <td>0</td>\n    </tr>\n    <tr>\n      <th>3</th>\n      <td>148.924</td>\n      <td>9504</td>\n      <td>681</td>\n      <td>3</td>\n      <td>36</td>\n      <td>11</td>\n      <td>964</td>\n      <td>0</td>\n      <td>1</td>\n      <td>1</td>\n      <td>0</td>\n      <td>1</td>\n      <td>0</td>\n      <td>0</td>\n      <td>1</td>\n      <td>0</td>\n    </tr>\n    <tr>\n      <th>4</th>\n      <td>55.882</td>\n      <td>4897</td>\n      <td>357</td>\n      <td>2</td>\n      <td>68</td>\n      <td>16</td>\n      <td>331</td>\n      <td>1</td>\n      <td>0</td>\n      <td>1</td>\n      <td>0</td>\n      <td>0</td>\n      <td>1</td>\n      <td>0</td>\n      <td>0</td>\n      <td>1</td>\n    </tr>\n  </tbody>\n</table>\n</div>"
     },
     "execution_count": 57,
     "metadata": {},
     "output_type": "execute_result"
    }
   ],
   "source": [
    "# np.where(np.isnan(df))\n",
    "df.fillna(df.mean())\n",
    "df.dropna(inplace=True)\n",
    "df.head()"
   ],
   "metadata": {
    "collapsed": false
   }
  },
  {
   "cell_type": "code",
   "execution_count": 67,
   "outputs": [
    {
     "name": "stdout",
     "output_type": "stream",
     "text": [
      "0-th fold:\n",
      "knn_score=0.9125\n",
      "dtc_score=1.0\n",
      "\n",
      "1-th fold:\n",
      "knn_score=0.9375\n",
      "dtc_score=1.0\n",
      "\n",
      "2-th fold:\n",
      "knn_score=0.8875\n",
      "dtc_score=1.0\n",
      "\n",
      "3-th fold:\n",
      "knn_score=0.925\n",
      "dtc_score=1.0\n",
      "\n",
      "4-th fold:\n",
      "knn_score=0.95\n",
      "dtc_score=1.0\n",
      "\n"
     ]
    }
   ],
   "source": [
    "for i, (train_index, test_index) in enumerate(kf.split(df_ari)):\n",
    "    print(f\"{i}-th fold:\")\n",
    "    X_train, X_test = df_ari.iloc[train_index], df_ari.iloc[test_index]\n",
    "    y_train, y_test = y.iloc[train_index], y.iloc[test_index]\n",
    "\n",
    "    knn = KNeighborsClassifier(n_neighbors=5)\n",
    "    knn.fit(X_train, y_train)\n",
    "    knn_score=knn.score(X_test, y_test)\n",
    "    print(f\"{knn_score=}\")\n",
    "\n",
    "    dtc = DecisionTreeClassifier()\n",
    "    dtc = dtc.fit(X_train, y_train)\n",
    "    dtc_score = dtc.score(X_test, y_test)\n",
    "    print(f\"{dtc_score=}\")\n",
    "    print()\n"
   ],
   "metadata": {
    "collapsed": false
   }
  },
  {
   "cell_type": "code",
   "execution_count": 41,
   "outputs": [
    {
     "data": {
      "text/plain": "80"
     },
     "execution_count": 41,
     "metadata": {},
     "output_type": "execute_result"
    }
   ],
   "source": [
    "# len(X_train)\n",
    "len(X_test)\n",
    "# len(X_train)\n"
   ],
   "metadata": {
    "collapsed": false
   }
  },
  {
   "cell_type": "code",
   "execution_count": null,
   "outputs": [],
   "source": [],
   "metadata": {
    "collapsed": false
   }
  }
 ],
 "metadata": {
  "kernelspec": {
   "display_name": "Python 3",
   "language": "python",
   "name": "python3"
  },
  "language_info": {
   "codemirror_mode": {
    "name": "ipython",
    "version": 2
   },
   "file_extension": ".py",
   "mimetype": "text/x-python",
   "name": "python",
   "nbconvert_exporter": "python",
   "pygments_lexer": "ipython2",
   "version": "2.7.6"
  }
 },
 "nbformat": 4,
 "nbformat_minor": 0
}

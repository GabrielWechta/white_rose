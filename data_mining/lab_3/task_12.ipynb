{
 "cells": [
  {
   "cell_type": "code",
   "execution_count": 43,
   "metadata": {
    "collapsed": true
   },
   "outputs": [],
   "source": [
    "import numpy as np\n",
    "import pandas as pd\n",
    "from sklearn.linear_model import LogisticRegression\n",
    "\n",
    "np.random.seed(1)"
   ]
  },
  {
   "cell_type": "code",
   "execution_count": 44,
   "outputs": [
    {
     "data": {
      "text/plain": "Unnamed: 0    0\nIncome        0\nLimit         0\nRating        0\nCards         0\nAge           0\nEducation     0\nGender        0\nStudent       0\nMarried       0\nEthnicity     0\nBalance       0\ndtype: int64"
     },
     "execution_count": 44,
     "metadata": {},
     "output_type": "execute_result"
    }
   ],
   "source": [
    "PATH = \"lab/data/\"\n",
    "df_raw = pd.read_csv(f'{PATH}Credit.csv')\n",
    "df_raw.isnull().sum()"
   ],
   "metadata": {
    "collapsed": false
   }
  },
  {
   "cell_type": "code",
   "execution_count": 45,
   "outputs": [],
   "source": [
    "df_raw.head(n=5)\n",
    "df = df_raw.drop(\"Unnamed: 0\", axis=1)"
   ],
   "metadata": {
    "collapsed": false
   }
  },
  {
   "cell_type": "code",
   "execution_count": 46,
   "outputs": [],
   "source": [
    "df['aristocrat'] = df.apply(lambda row: 1 if row['Income'] > 50 else 0, axis=1)"
   ],
   "metadata": {
    "collapsed": false
   }
  },
  {
   "cell_type": "code",
   "execution_count": 47,
   "outputs": [
    {
     "data": {
      "text/plain": "    Income  Limit  Rating  Cards  Age  Education  Gender Student Married  \\\n0   14.891   3606     283      2   34         11    Male      No     Yes   \n1  106.025   6645     483      3   82         15  Female     Yes     Yes   \n2  104.593   7075     514      4   71         11    Male      No      No   \n3  148.924   9504     681      3   36         11  Female      No      No   \n4   55.882   4897     357      2   68         16    Male      No     Yes   \n\n   Ethnicity  Balance  aristocrat  \n0  Caucasian      333           0  \n1      Asian      903           1  \n2      Asian      580           1  \n3      Asian      964           1  \n4  Caucasian      331           1  ",
      "text/html": "<div>\n<style scoped>\n    .dataframe tbody tr th:only-of-type {\n        vertical-align: middle;\n    }\n\n    .dataframe tbody tr th {\n        vertical-align: top;\n    }\n\n    .dataframe thead th {\n        text-align: right;\n    }\n</style>\n<table border=\"1\" class=\"dataframe\">\n  <thead>\n    <tr style=\"text-align: right;\">\n      <th></th>\n      <th>Income</th>\n      <th>Limit</th>\n      <th>Rating</th>\n      <th>Cards</th>\n      <th>Age</th>\n      <th>Education</th>\n      <th>Gender</th>\n      <th>Student</th>\n      <th>Married</th>\n      <th>Ethnicity</th>\n      <th>Balance</th>\n      <th>aristocrat</th>\n    </tr>\n  </thead>\n  <tbody>\n    <tr>\n      <th>0</th>\n      <td>14.891</td>\n      <td>3606</td>\n      <td>283</td>\n      <td>2</td>\n      <td>34</td>\n      <td>11</td>\n      <td>Male</td>\n      <td>No</td>\n      <td>Yes</td>\n      <td>Caucasian</td>\n      <td>333</td>\n      <td>0</td>\n    </tr>\n    <tr>\n      <th>1</th>\n      <td>106.025</td>\n      <td>6645</td>\n      <td>483</td>\n      <td>3</td>\n      <td>82</td>\n      <td>15</td>\n      <td>Female</td>\n      <td>Yes</td>\n      <td>Yes</td>\n      <td>Asian</td>\n      <td>903</td>\n      <td>1</td>\n    </tr>\n    <tr>\n      <th>2</th>\n      <td>104.593</td>\n      <td>7075</td>\n      <td>514</td>\n      <td>4</td>\n      <td>71</td>\n      <td>11</td>\n      <td>Male</td>\n      <td>No</td>\n      <td>No</td>\n      <td>Asian</td>\n      <td>580</td>\n      <td>1</td>\n    </tr>\n    <tr>\n      <th>3</th>\n      <td>148.924</td>\n      <td>9504</td>\n      <td>681</td>\n      <td>3</td>\n      <td>36</td>\n      <td>11</td>\n      <td>Female</td>\n      <td>No</td>\n      <td>No</td>\n      <td>Asian</td>\n      <td>964</td>\n      <td>1</td>\n    </tr>\n    <tr>\n      <th>4</th>\n      <td>55.882</td>\n      <td>4897</td>\n      <td>357</td>\n      <td>2</td>\n      <td>68</td>\n      <td>16</td>\n      <td>Male</td>\n      <td>No</td>\n      <td>Yes</td>\n      <td>Caucasian</td>\n      <td>331</td>\n      <td>1</td>\n    </tr>\n  </tbody>\n</table>\n</div>"
     },
     "execution_count": 47,
     "metadata": {},
     "output_type": "execute_result"
    }
   ],
   "source": [
    "df.head(n=5)"
   ],
   "metadata": {
    "collapsed": false
   }
  },
  {
   "cell_type": "code",
   "execution_count": 48,
   "outputs": [
    {
     "data": {
      "text/plain": "<AxesSubplot: xlabel='index', ylabel='aristocrat'>"
     },
     "execution_count": 48,
     "metadata": {},
     "output_type": "execute_result"
    },
    {
     "data": {
      "text/plain": "<Figure size 640x480 with 1 Axes>",
      "image/png": "[encoded data removed]"
     },
     "metadata": {},
     "output_type": "display_data"
    }
   ],
   "source": [
    "df.reset_index().plot(x='index', y='aristocrat', kind='scatter')"
   ],
   "metadata": {
    "collapsed": false
   }
  },
  {
   "cell_type": "code",
   "execution_count": 49,
   "outputs": [
    {
     "data": {
      "text/plain": "      Income  Limit  Rating  Cards  Age  Education  Gender Student Married  \\\n398   37.728   2525     192      1   44         13    Male      No     Yes   \n125   27.578   2531     195      1   34         15  Female      No     Yes   \n328   41.192   3673     297      3   54         16  Female      No     Yes   \n339  149.316  10278     707      1   80         16    Male      No      No   \n172   76.348   4697     344      4   60         18    Male      No      No   \n\n            Ethnicity  Balance  \n398         Caucasian        0  \n125         Caucasian        0  \n328         Caucasian      121  \n339  African American     1107  \n172             Asian      108  ",
      "text/html": "<div>\n<style scoped>\n    .dataframe tbody tr th:only-of-type {\n        vertical-align: middle;\n    }\n\n    .dataframe tbody tr th {\n        vertical-align: top;\n    }\n\n    .dataframe thead th {\n        text-align: right;\n    }\n</style>\n<table border=\"1\" class=\"dataframe\">\n  <thead>\n    <tr style=\"text-align: right;\">\n      <th></th>\n      <th>Income</th>\n      <th>Limit</th>\n      <th>Rating</th>\n      <th>Cards</th>\n      <th>Age</th>\n      <th>Education</th>\n      <th>Gender</th>\n      <th>Student</th>\n      <th>Married</th>\n      <th>Ethnicity</th>\n      <th>Balance</th>\n    </tr>\n  </thead>\n  <tbody>\n    <tr>\n      <th>398</th>\n      <td>37.728</td>\n      <td>2525</td>\n      <td>192</td>\n      <td>1</td>\n      <td>44</td>\n      <td>13</td>\n      <td>Male</td>\n      <td>No</td>\n      <td>Yes</td>\n      <td>Caucasian</td>\n      <td>0</td>\n    </tr>\n    <tr>\n      <th>125</th>\n      <td>27.578</td>\n      <td>2531</td>\n      <td>195</td>\n      <td>1</td>\n      <td>34</td>\n      <td>15</td>\n      <td>Female</td>\n      <td>No</td>\n      <td>Yes</td>\n      <td>Caucasian</td>\n      <td>0</td>\n    </tr>\n    <tr>\n      <th>328</th>\n      <td>41.192</td>\n      <td>3673</td>\n      <td>297</td>\n      <td>3</td>\n      <td>54</td>\n      <td>16</td>\n      <td>Female</td>\n      <td>No</td>\n      <td>Yes</td>\n      <td>Caucasian</td>\n      <td>121</td>\n    </tr>\n    <tr>\n      <th>339</th>\n      <td>149.316</td>\n      <td>10278</td>\n      <td>707</td>\n      <td>1</td>\n      <td>80</td>\n      <td>16</td>\n      <td>Male</td>\n      <td>No</td>\n      <td>No</td>\n      <td>African American</td>\n      <td>1107</td>\n    </tr>\n    <tr>\n      <th>172</th>\n      <td>76.348</td>\n      <td>4697</td>\n      <td>344</td>\n      <td>4</td>\n      <td>60</td>\n      <td>18</td>\n      <td>Male</td>\n      <td>No</td>\n      <td>No</td>\n      <td>Asian</td>\n      <td>108</td>\n    </tr>\n  </tbody>\n</table>\n</div>"
     },
     "execution_count": 49,
     "metadata": {},
     "output_type": "execute_result"
    }
   ],
   "source": [
    "from sklearn.model_selection import train_test_split\n",
    "from patsy.highlevel import dmatrices\n",
    "\n",
    "df_y = df.pop('aristocrat')\n",
    "\n",
    "X_train, X_train, y_train, y_test = train_test_split(df, df_y, test_size=0.2)\n",
    "X_train.head(n=5)"
   ],
   "metadata": {
    "collapsed": false
   }
  },
  {
   "cell_type": "code",
   "execution_count": 50,
   "outputs": [
    {
     "data": {
      "text/plain": "93     0\n23     1\n299    0\n13     0\n90     0\nName: aristocrat, dtype: int64"
     },
     "execution_count": 50,
     "metadata": {},
     "output_type": "execute_result"
    }
   ],
   "source": [
    "y_train.head()"
   ],
   "metadata": {
    "collapsed": false
   }
  },
  {
   "cell_type": "code",
   "execution_count": 51,
   "outputs": [],
   "source": [
    "log_reg = LogisticRegression()\n",
    "log_reg.fit(X_train, y_train)"
   ],
   "metadata": {
    "collapsed": false
   }
  },
  {
   "cell_type": "code",
   "execution_count": null,
   "outputs": [],
   "source": [],
   "metadata": {
    "collapsed": false,
    "pycharm": {
     "is_executing": true
    }
   }
  },
  {
   "cell_type": "code",
   "execution_count": null,
   "outputs": [],
   "source": [],
   "metadata": {
    "collapsed": false,
    "pycharm": {
     "is_executing": true
    }
   }
  },
  {
   "cell_type": "code",
   "execution_count": 18,
   "outputs": [],
   "source": [],
   "metadata": {
    "collapsed": false
   }
  }
 ],
 "metadata": {
  "kernelspec": {
   "display_name": "Python 3",
   "language": "python",
   "name": "python3"
  },
  "language_info": {
   "codemirror_mode": {
    "name": "ipython",
    "version": 2
   },
   "file_extension": ".py",
   "mimetype": "text/x-python",
   "name": "python",
   "nbconvert_exporter": "python",
   "pygments_lexer": "ipython2",
   "version": "2.7.6"
  }
 },
 "nbformat": 4,
 "nbformat_minor": 0
}

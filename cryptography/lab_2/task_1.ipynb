{
 "cells": [
  {
   "cell_type": "code",
   "execution_count": 16,
   "metadata": {
    "pycharm": {
     "name": "#%%\n"
    }
   },
   "outputs": [],
   "source": [
    "from sympy import randprime, mod_inverse\n",
    "import matplotlib.pyplot as plt\n",
    "from statistics import mean\n",
    "import random\n",
    "\n",
    "plt.rcParams[\"figure.figsize\"] = (20, 9)\n"
   ]
  },
  {
   "cell_type": "code",
   "execution_count": 17,
   "metadata": {
    "pycharm": {
     "name": "#%%\n"
    }
   },
   "outputs": [],
   "source": [
    "def GenModulus(w):\n",
    "    n = len(w) // 2\n",
    "    p = randprime(2**n, 2 ** (n + 1))\n",
    "    q = randprime(2**n, 2 ** (n + 1))\n",
    "    N = p * q\n",
    "    return N, p, q\n"
   ]
  },
  {
   "cell_type": "code",
   "execution_count": 18,
   "metadata": {
    "pycharm": {
     "name": "#%%\n"
    }
   },
   "outputs": [],
   "source": [
    "def GenRSA(w):\n",
    "    N, p, q = GenModulus(w)\n",
    "    m = (p - 1) * (q - 1)\n",
    "    e = 2**16 + 1\n",
    "    d = mod_inverse(e, m)\n",
    "    return N, e, d, p, q\n"
   ]
  },
  {
   "cell_type": "code",
   "execution_count": 19,
   "metadata": {
    "pycharm": {
     "name": "#%%\n"
    }
   },
   "outputs": [],
   "source": [
    "def enc(m, N, e):\n",
    "    return fast_pow(m, N, e)  # x ** e % N\n",
    "\n",
    "\n",
    "def dec(c, N, d):\n",
    "    return fast_pow(c, N, d)  # c ** d % N\n"
   ]
  },
  {
   "cell_type": "code",
   "execution_count": 20,
   "metadata": {
    "pycharm": {
     "name": "#%%\n"
    }
   },
   "outputs": [],
   "source": [
    "def fast_pow(c, N, exp):\n",
    "    exp_bin = \"{0:b}\".format(exp)\n",
    "    # print(exp_bin)\n",
    "    exp_len = len(exp_bin)\n",
    "    reductions = 0\n",
    "    h = 0\n",
    "    x = c\n",
    "    for j in range(1, exp_len):\n",
    "        x, r = mod_reduce(x**2, N)\n",
    "        reductions = reductions + r\n",
    "        if exp_bin[j] == \"1\":\n",
    "            x, r = mod_reduce(x * c, N)\n",
    "            reductions = reductions + r\n",
    "            h = h + 1\n",
    "    return x, h, reductions\n"
   ]
  },
  {
   "cell_type": "code",
   "execution_count": 21,
   "metadata": {
    "pycharm": {
     "name": "#%%\n"
    }
   },
   "outputs": [],
   "source": [
    "def mod_reduce(a, b):\n",
    "    reductions = 0\n",
    "    if a >= b:\n",
    "        a = a % b\n",
    "        reductions = 1\n",
    "    return a, reductions\n"
   ]
  },
  {
   "cell_type": "code",
   "execution_count": 7,
   "metadata": {
    "pycharm": {
     "name": "#%%\n"
    }
   },
   "outputs": [],
   "source": [
    "def gen_bool_range_with_exponents_in(N, c_range, smaller_exp, bigger_exp):\n",
    "    c_less_then_bigger_bool = []\n",
    "    c_between_bool = []\n",
    "    for c in c_range:\n",
    "        c_less_then_bigger_bool.append(c**bigger_exp < N)\n",
    "        c_between_bool.append(c**smaller_exp < N < c**bigger_exp)\n",
    "    return c_less_then_bigger_bool, c_between_bool\n",
    "\n",
    "def gen_range_with_exponents_in(N, c_range, smaller_exp, bigger_exp):\n",
    "    c_less_then_bigger = []\n",
    "    c_between = []\n",
    "    for c in c_range:\n",
    "        if c**bigger_exp < N:\n",
    "            c_less_then_bigger.append(c)\n",
    "        if c**smaller_exp < N < c**bigger_exp:\n",
    "            c_between.append(c)\n",
    "    return c_less_then_bigger, c_between"
   ]
  },
  {
   "cell_type": "code",
   "execution_count": 22,
   "metadata": {
    "pycharm": {
     "name": "#%%\n"
    }
   },
   "outputs": [
    {
     "name": "stdout",
     "output_type": "stream",
     "text": [
      "N=153082215457 e=65537 d=131699504573 p=387151 q=395407\n",
      "1111010101001111001101111010110111101\n"
     ]
    }
   ],
   "source": [
    "w = \"111111111111111111111111111111111111\"\n",
    "N, e, d, p, q = GenRSA(w)\n",
    "print(f\"{N=} {e=} {d=} {p=} {q=}\")\n",
    "print(\"{0:b}\".format(d))\n",
    "c_range = range(3, 400000)\n"
   ]
  },
  {
   "cell_type": "code",
   "execution_count": 23,
   "metadata": {
    "pycharm": {
     "name": "#%%\n"
    }
   },
   "outputs": [],
   "source": [
    "r_array = []\n",
    "for c in c_range:\n",
    "    decrypted = dec(c, N, d)\n",
    "    # print(f\"{c=}, {decrypted[2]}\")\n",
    "    r_array.append(decrypted[2])\n"
   ]
  },
  {
   "cell_type": "code",
   "execution_count": 24,
   "metadata": {
    "pycharm": {
     "name": "#%%\n"
    }
   },
   "outputs": [
    {
     "data": {
      "text/plain": "[<matplotlib.lines.Line2D at 0x7f2265d5b610>,\n <matplotlib.lines.Line2D at 0x7f2265d5b550>,\n <matplotlib.lines.Line2D at 0x7f2265d5b580>]"
     },
     "execution_count": 24,
     "metadata": {},
     "output_type": "execute_result"
    },
    {
     "data": {
      "text/plain": "<Figure size 1440x648 with 1 Axes>",
      "image/png": "[encoded data removed]"
     },
     "metadata": {
      "needs_background": "light"
     },
     "output_type": "display_data"
    }
   ],
   "source": [
    "c_less_then_bigger_bool, c_between_bool = gen_bool_range_with_exponents_in(\n",
    "    N=N, c_range=c_range, smaller_exp=2, bigger_exp=3\n",
    ")\n",
    "plt.plot(\n",
    "    c_range,\n",
    "    c_less_then_bigger_bool,\n",
    "    \"rs\",\n",
    "    c_range,\n",
    "    c_between_bool,\n",
    "    \"g^\",\n",
    "    c_range,\n",
    "    r_array\n",
    ")\n"
   ]
  },
  {
   "cell_type": "code",
   "execution_count": 25,
   "metadata": {
    "pycharm": {
     "name": "#%%\n"
    }
   },
   "outputs": [],
   "source": [
    "def ask_for_decryption(smaller_exp, bigger_exp, c_range):\n",
    "    c_less_then_bigger, c_between = gen_range_with_exponents_in(\n",
    "        N=N, c_range=c_range, smaller_exp=smaller_exp, bigger_exp=bigger_exp\n",
    "    )\n",
    "\n",
    "    c_less_then_bigger_array = []\n",
    "    for c in c_less_then_bigger:\n",
    "        decrypted = dec(c, N, d)\n",
    "        c_less_then_bigger_array.append(decrypted[2])\n",
    "\n",
    "    c_between_array = []\n",
    "    for c in c_between:\n",
    "        decrypted = dec(c, N, d)\n",
    "        c_between_array.append(decrypted[2])\n",
    "\n",
    "    print(c_less_then_bigger_array[:10], c_between_array[:10])\n",
    "    print(f\"{smaller_exp=}, {bigger_exp=}\")\n",
    "    print(mean(c_less_then_bigger_array), mean(c_between_array))\n",
    "\n",
    "    e = 1\n",
    "    if mean(c_less_then_bigger_array) + e < mean(c_between_array):\n",
    "        return \"1\"\n",
    "    else:\n",
    "        return \"0\"\n",
    "\n",
    "\n",
    "def timing_attack(d_length, c_range):\n",
    "    guessed_d = \"\"\n",
    "    for exp in range(d_length):\n",
    "        bit = ask_for_decryption(\n",
    "            smaller_exp=3 * exp + 2, bigger_exp=3 * exp + 3, c_range=c_range\n",
    "        )\n",
    "        print(bit)\n",
    "        guessed_d += bit\n",
    "\n",
    "    print(guessed_d)\n"
   ]
  },
  {
   "cell_type": "code",
   "execution_count": 26,
   "metadata": {
    "pycharm": {
     "name": "#%%\n"
    }
   },
   "outputs": [
    {
     "name": "stdout",
     "output_type": "stream",
     "text": [
      "1111010101001111001101111010110111101\n",
      "[47, 50, 52, 53, 53, 50, 55, 51, 55, 53] [59, 59, 59, 59, 58, 59, 59, 59, 59, 59]\n",
      "smaller_exp=2, bigger_exp=3\n",
      "57.944080792968016 58.99968904505737\n",
      "1\n",
      "[47, 50, 52, 53, 53, 50, 55, 51, 55, 53] [58, 57, 58, 57, 57, 58, 58, 58, 58, 57]\n",
      "smaller_exp=5, bigger_exp=6\n",
      "55.29577464788732 57.77777777777778\n",
      "1\n",
      "[47, 50, 52, 53, 53, 50, 55, 51, 55, 53] [54, 56, 55, 56, 56, 55, 55, 56]\n",
      "smaller_exp=8, bigger_exp=9\n",
      "52.93333333333333 55.375\n",
      "1\n",
      "[47, 50, 52, 53, 53, 50] [55, 51]\n",
      "smaller_exp=11, bigger_exp=12\n",
      "50.833333333333336 53\n",
      "1\n",
      "[47, 50, 52] [53]\n",
      "smaller_exp=14, bigger_exp=15\n",
      "49.666666666666664 53\n",
      "1\n",
      "[47, 50] []\n",
      "smaller_exp=17, bigger_exp=18\n"
     ]
    },
    {
     "ename": "StatisticsError",
     "evalue": "mean requires at least one data point",
     "output_type": "error",
     "traceback": [
      "\u001B[0;31m---------------------------------------------------------------------------\u001B[0m",
      "\u001B[0;31mStatisticsError\u001B[0m                           Traceback (most recent call last)",
      "Input \u001B[0;32mIn [26]\u001B[0m, in \u001B[0;36m<cell line: 3>\u001B[0;34m()\u001B[0m\n\u001B[1;32m      1\u001B[0m n \u001B[38;5;241m=\u001B[39m \u001B[38;5;28mlen\u001B[39m(w) \u001B[38;5;241m/\u001B[39m\u001B[38;5;241m/\u001B[39m \u001B[38;5;241m2\u001B[39m\n\u001B[1;32m      2\u001B[0m \u001B[38;5;28mprint\u001B[39m(\u001B[38;5;124m\"\u001B[39m\u001B[38;5;132;01m{0:b}\u001B[39;00m\u001B[38;5;124m\"\u001B[39m\u001B[38;5;241m.\u001B[39mformat(d))\n\u001B[0;32m----> 3\u001B[0m \u001B[43mtiming_attack\u001B[49m\u001B[43m(\u001B[49m\u001B[43md_length\u001B[49m\u001B[38;5;241;43m=\u001B[39;49m\u001B[43mn\u001B[49m\u001B[43m,\u001B[49m\u001B[43m \u001B[49m\u001B[43mc_range\u001B[49m\u001B[38;5;241;43m=\u001B[39;49m\u001B[43mc_range\u001B[49m\u001B[43m)\u001B[49m\n",
      "Input \u001B[0;32mIn [25]\u001B[0m, in \u001B[0;36mtiming_attack\u001B[0;34m(d_length, c_range)\u001B[0m\n\u001B[1;32m     28\u001B[0m guessed_d \u001B[38;5;241m=\u001B[39m \u001B[38;5;124m\"\u001B[39m\u001B[38;5;124m\"\u001B[39m\n\u001B[1;32m     29\u001B[0m \u001B[38;5;28;01mfor\u001B[39;00m exp \u001B[38;5;129;01min\u001B[39;00m \u001B[38;5;28mrange\u001B[39m(d_length):\n\u001B[0;32m---> 30\u001B[0m     bit \u001B[38;5;241m=\u001B[39m \u001B[43mask_for_decryption\u001B[49m\u001B[43m(\u001B[49m\n\u001B[1;32m     31\u001B[0m \u001B[43m        \u001B[49m\u001B[43msmaller_exp\u001B[49m\u001B[38;5;241;43m=\u001B[39;49m\u001B[38;5;241;43m3\u001B[39;49m\u001B[43m \u001B[49m\u001B[38;5;241;43m*\u001B[39;49m\u001B[43m \u001B[49m\u001B[43mexp\u001B[49m\u001B[43m \u001B[49m\u001B[38;5;241;43m+\u001B[39;49m\u001B[43m \u001B[49m\u001B[38;5;241;43m2\u001B[39;49m\u001B[43m,\u001B[49m\u001B[43m \u001B[49m\u001B[43mbigger_exp\u001B[49m\u001B[38;5;241;43m=\u001B[39;49m\u001B[38;5;241;43m3\u001B[39;49m\u001B[43m \u001B[49m\u001B[38;5;241;43m*\u001B[39;49m\u001B[43m \u001B[49m\u001B[43mexp\u001B[49m\u001B[43m \u001B[49m\u001B[38;5;241;43m+\u001B[39;49m\u001B[43m \u001B[49m\u001B[38;5;241;43m3\u001B[39;49m\u001B[43m,\u001B[49m\u001B[43m \u001B[49m\u001B[43mc_range\u001B[49m\u001B[38;5;241;43m=\u001B[39;49m\u001B[43mc_range\u001B[49m\n\u001B[1;32m     32\u001B[0m \u001B[43m    \u001B[49m\u001B[43m)\u001B[49m\n\u001B[1;32m     33\u001B[0m     \u001B[38;5;28mprint\u001B[39m(bit)\n\u001B[1;32m     34\u001B[0m     guessed_d \u001B[38;5;241m+\u001B[39m\u001B[38;5;241m=\u001B[39m bit\n",
      "Input \u001B[0;32mIn [25]\u001B[0m, in \u001B[0;36mask_for_decryption\u001B[0;34m(smaller_exp, bigger_exp, c_range)\u001B[0m\n\u001B[1;32m     16\u001B[0m \u001B[38;5;28mprint\u001B[39m(c_less_then_bigger_array[:\u001B[38;5;241m10\u001B[39m], c_between_array[:\u001B[38;5;241m10\u001B[39m])\n\u001B[1;32m     17\u001B[0m \u001B[38;5;28mprint\u001B[39m(\u001B[38;5;124mf\u001B[39m\u001B[38;5;124m\"\u001B[39m\u001B[38;5;132;01m{\u001B[39;00msmaller_exp\u001B[38;5;132;01m=}\u001B[39;00m\u001B[38;5;124m, \u001B[39m\u001B[38;5;132;01m{\u001B[39;00mbigger_exp\u001B[38;5;132;01m=}\u001B[39;00m\u001B[38;5;124m\"\u001B[39m)\n\u001B[0;32m---> 18\u001B[0m \u001B[38;5;28mprint\u001B[39m(mean(c_less_then_bigger_array), \u001B[43mmean\u001B[49m\u001B[43m(\u001B[49m\u001B[43mc_between_array\u001B[49m\u001B[43m)\u001B[49m)\n\u001B[1;32m     20\u001B[0m e \u001B[38;5;241m=\u001B[39m \u001B[38;5;241m1\u001B[39m\n\u001B[1;32m     21\u001B[0m \u001B[38;5;28;01mif\u001B[39;00m mean(c_less_then_bigger_array) \u001B[38;5;241m+\u001B[39m e \u001B[38;5;241m<\u001B[39m mean(c_between_array):\n",
      "File \u001B[0;32m/usr/lib/python3.8/statistics.py:315\u001B[0m, in \u001B[0;36mmean\u001B[0;34m(data)\u001B[0m\n\u001B[1;32m    313\u001B[0m n \u001B[38;5;241m=\u001B[39m \u001B[38;5;28mlen\u001B[39m(data)\n\u001B[1;32m    314\u001B[0m \u001B[38;5;28;01mif\u001B[39;00m n \u001B[38;5;241m<\u001B[39m \u001B[38;5;241m1\u001B[39m:\n\u001B[0;32m--> 315\u001B[0m     \u001B[38;5;28;01mraise\u001B[39;00m StatisticsError(\u001B[38;5;124m'\u001B[39m\u001B[38;5;124mmean requires at least one data point\u001B[39m\u001B[38;5;124m'\u001B[39m)\n\u001B[1;32m    316\u001B[0m T, total, count \u001B[38;5;241m=\u001B[39m _sum(data)\n\u001B[1;32m    317\u001B[0m \u001B[38;5;28;01massert\u001B[39;00m count \u001B[38;5;241m==\u001B[39m n\n",
      "\u001B[0;31mStatisticsError\u001B[0m: mean requires at least one data point"
     ]
    }
   ],
   "source": [
    "n = len(w) // 2\n",
    "print(\"{0:b}\".format(d))\n",
    "timing_attack(d_length=n, c_range=c_range)\n"
   ]
  },
  {
   "cell_type": "code",
   "execution_count": 27,
   "metadata": {
    "pycharm": {
     "name": "#%%\n"
    }
   },
   "outputs": [],
   "source": [
    "def my_fast_pow(c, N, exp_bin):\n",
    "    exp_len = len(exp_bin)\n",
    "    reductions_list = [-1 for _ in range(2 * exp_len)]\n",
    "    x = c\n",
    "    for j in range(1, exp_len):\n",
    "        x, r = mod_reduce(x**2, N)\n",
    "        reductions_list[2*j] = r\n",
    "        # print(f'{exp_bin[j]=}')\n",
    "        if exp_bin[j] == \"1\":\n",
    "            x, r = mod_reduce(x * c, N)\n",
    "            reductions_list[2*j + 1] = r\n",
    "    return reductions_list\n",
    "\n",
    "def find_lists_differ_last_bit(d):\n",
    "    pairs = []\n",
    "    for key, value in d.items():\n",
    "        for key_2, value_2 in d.items():\n",
    "            # print(f'{value[:-1]=} {value_2[:-1]=} {value[-1]=} {value_2[-1]=}')\n",
    "            if value[:-1] == value_2[:-1]:\n",
    "                # print(value[-1], value_2[-1])\n",
    "                    # and value[-1] != value_2[-1]:\n",
    "                pairs.append([key, value, key_2, value_2])\n",
    "    return pairs\n",
    "\n",
    "def find_message_with_given_prefix(match, N, exp_bin):\n",
    "    while True:\n",
    "        c = random.choice(c_range)\n",
    "        reductions = my_fast_pow(c, N, exp_bin)\n",
    "        if reductions[:-1] == match[:-1]:\n",
    "            print(reductions, match)\n"
   ]
  },
  {
   "cell_type": "code",
   "execution_count": 28,
   "metadata": {
    "pycharm": {
     "name": "#%%\n"
    }
   },
   "outputs": [
    {
     "name": "stdout",
     "output_type": "stream",
     "text": [
      "[-1, -1, 0, 0, 1, 1, 1, 0]\n",
      "[-1, -1, 0, 1, 1, 1, 1, 0]\n",
      "[-1, -1, 0, 0, 1, 1, 1, 0]\n"
     ]
    }
   ],
   "source": [
    "tries_number = 200000\n",
    "mes_red = {}\n",
    "y_tries, x_tries = [], []\n",
    "exp_bin = \"1111\"\n",
    "i = 0\n",
    "while i < tries_number:\n",
    "    i += 1\n",
    "    c = random.choice(c_range)\n",
    "    reductions = my_fast_pow(c, N, exp_bin)\n",
    "    mes_red[c] = reductions\n",
    "    if reductions[-1] == 0:\n",
    "        print(reductions)\n",
    "        # print(reductions[:-1])\n",
    "\n",
    "# pairs = find_lists_differ_last_bit(mes_red)\n",
    "# print(mes_red)\n",
    "# print(pairs)\n"
   ]
  },
  {
   "cell_type": "code",
   "execution_count": 72,
   "metadata": {
    "pycharm": {
     "name": "#%%\n"
    }
   },
   "outputs": [],
   "source": [
    "find_message_with_given_prefix([-1, -1, 0, 1, 1, 1, 1, 0], N, exp_bin)\n"
   ]
  },
  {
   "cell_type": "code",
   "execution_count": null,
   "metadata": {
    "pycharm": {
     "name": "#%%\n"
    }
   },
   "outputs": [],
   "source": []
  }
 ],
 "metadata": {
  "interpreter": {
   "hash": "916dbcbb3f70747c44a77c7bcd40155683ae19c65e1c03b4aa3499c5328201f1"
  },
  "kernelspec": {
   "display_name": "Python 3.8.10 64-bit",
   "language": "python",
   "name": "python3"
  },
  "language_info": {
   "codemirror_mode": {
    "name": "ipython",
    "version": 3
   },
   "file_extension": ".py",
   "mimetype": "text/x-python",
   "name": "python",
   "nbconvert_exporter": "python",
   "pygments_lexer": "ipython3",
   "version": "3.8.10"
  },
  "orig_nbformat": 4
 },
 "nbformat": 4,
 "nbformat_minor": 2
}
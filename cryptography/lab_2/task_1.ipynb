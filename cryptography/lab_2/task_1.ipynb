{
 "cells": [
  {
   "cell_type": "code",
   "execution_count": null,
   "metadata": {},
   "outputs": [],
   "source": [
    "from sympy import randprime, mod_inverse\n",
    "import matplotlib.pyplot as plt\n",
    "from statistics import mean\n",
    "import random\n",
    "\n",
    "plt.rcParams[\"figure.figsize\"] = (20, 9)\n"
   ]
  },
  {
   "cell_type": "code",
   "execution_count": null,
   "metadata": {},
   "outputs": [],
   "source": [
    "def GenModulus(w):\n",
    "    n = len(w) // 2\n",
    "    p = randprime(2**n, 2 ** (n + 1))\n",
    "    q = randprime(2**n, 2 ** (n + 1))\n",
    "    N = p * q\n",
    "    return N, p, q\n"
   ]
  },
  {
   "cell_type": "code",
   "execution_count": null,
   "metadata": {},
   "outputs": [],
   "source": [
    "def GenRSA(w):\n",
    "    N, p, q = GenModulus(w)\n",
    "    m = (p - 1) * (q - 1)\n",
    "    e = 2**16 + 1\n",
    "    d = mod_inverse(e, m)\n",
    "    return N, e, d, p, q\n"
   ]
  },
  {
   "cell_type": "code",
   "execution_count": null,
   "metadata": {},
   "outputs": [],
   "source": [
    "def enc(m, N, e):\n",
    "    return fast_pow(m, N, e)  # x ** e % N\n",
    "\n",
    "\n",
    "def dec(c, N, d):\n",
    "    return fast_pow(c, N, d)  # c ** d % N\n"
   ]
  },
  {
   "cell_type": "code",
   "execution_count": null,
   "metadata": {},
   "outputs": [],
   "source": [
    "def fast_pow(c, N, exp):\n",
    "    exp_bin = \"{0:b}\".format(exp)\n",
    "    # print(exp_bin)\n",
    "    exp_len = len(exp_bin)\n",
    "    reductions = 0\n",
    "    h = 0\n",
    "    x = c\n",
    "    for j in range(1, exp_len):\n",
    "        x, r = mod_reduce(x**2, N)\n",
    "        reductions = reductions + r\n",
    "        if exp_bin[j] == \"1\":\n",
    "            x, r = mod_reduce(x * c, N)\n",
    "            reductions = reductions + r\n",
    "            h = h + 1\n",
    "    return x, h, reductions\n"
   ]
  },
  {
   "cell_type": "code",
   "execution_count": null,
   "metadata": {},
   "outputs": [],
   "source": [
    "def mod_reduce(a, b):\n",
    "    reductions = 0\n",
    "    if a >= b:\n",
    "        a = a % b\n",
    "        reductions = 1\n",
    "    return a, reductions\n"
   ]
  },
  {
   "cell_type": "code",
   "execution_count": null,
   "metadata": {},
   "outputs": [],
   "source": [
    "def gen_bool_range_with_exponents_in(N, c_range, smaller_exp, bigger_exp):\n",
    "    c_less_then_bigger_bool = []\n",
    "    c_between_bool = []\n",
    "    for c in c_range:\n",
    "        c_less_then_bigger_bool.append(c**bigger_exp < N)\n",
    "        c_between_bool.append(c**smaller_exp < N < c**bigger_exp)\n",
    "    return c_less_then_bigger_bool, c_between_bool\n",
    "\n",
    "def gen_range_with_exponents_in(N, c_range, smaller_exp, bigger_exp):\n",
    "    c_less_then_bigger = []\n",
    "    c_between = []\n",
    "    for c in c_range:\n",
    "        if c**bigger_exp < N:\n",
    "            c_less_then_bigger.append(c)\n",
    "        if c**smaller_exp < N < c**bigger_exp:\n",
    "            c_between.append(c)\n",
    "    return c_less_then_bigger, c_between"
   ]
  },
  {
   "cell_type": "code",
   "execution_count": null,
   "metadata": {},
   "outputs": [],
   "source": [
    "w = \"111111111111111111111111111111111111\"\n",
    "N, e, d, p, q = GenRSA(w)\n",
    "print(f\"{N=} {e=} {d=} {p=} {q=}\")\n",
    "print(\"{0:b}\".format(d))\n",
    "c_range = range(3, 800000)\n"
   ]
  },
  {
   "cell_type": "code",
   "execution_count": null,
   "metadata": {},
   "outputs": [],
   "source": [
    "r_array = []\n",
    "for c in c_range:\n",
    "    decrypted = dec(c, N, d)\n",
    "    # print(f\"{c=}, {decrypted[2]}\")\n",
    "    r_array.append(decrypted[2])\n"
   ]
  },
  {
   "cell_type": "code",
   "execution_count": null,
   "metadata": {},
   "outputs": [],
   "source": [
    "c_less_then_bigger_bool, c_between_bool = gen_bool_range_with_exponents_in(\n",
    "    N=N, c_range=c_range, smaller_exp=2, bigger_exp=3\n",
    ")\n",
    "plt.plot(\n",
    "    c_range,\n",
    "    c_less_then_bigger_bool,\n",
    "    \"rs\",\n",
    "    c_range,\n",
    "    c_between_bool,\n",
    "    \"g^\",\n",
    "    c_range,\n",
    "    r_array\n",
    ")\n"
   ]
  },
  {
   "cell_type": "code",
   "execution_count": null,
   "metadata": {},
   "outputs": [],
   "source": [
    "def ask_for_decryption(smaller_exp, bigger_exp, c_range):\n",
    "    c_less_then_bigger, c_between = gen_range_with_exponents_in(\n",
    "        N=N, c_range=c_range, smaller_exp=smaller_exp, bigger_exp=bigger_exp\n",
    "    )\n",
    "\n",
    "    c_less_then_bigger_array = []\n",
    "    for c in c_less_then_bigger:\n",
    "        decrypted = dec(c, N, d)\n",
    "        c_less_then_bigger_array.append(decrypted[2])\n",
    "\n",
    "    c_between_array = []\n",
    "    for c in c_between:\n",
    "        decrypted = dec(c, N, d)\n",
    "        c_between_array.append(decrypted[2])\n",
    "\n",
    "    print(c_less_then_bigger_array[:10], c_between_array[:10])\n",
    "    print(f\"{smaller_exp=}, {bigger_exp=}\")\n",
    "    print(mean(c_less_then_bigger_array), mean(c_between_array))\n",
    "\n",
    "    e = 1\n",
    "    if mean(c_less_then_bigger_array) + e < mean(c_between_array):\n",
    "        return \"1\"\n",
    "    else:\n",
    "        return \"0\"\n",
    "\n",
    "\n",
    "def timing_attack(d_length, c_range):\n",
    "    guessed_d = \"\"\n",
    "    for exp in range(d_length):\n",
    "        bit = ask_for_decryption(\n",
    "            smaller_exp=3 * exp + 2, bigger_exp=3 * exp + 3, c_range=c_range\n",
    "        )\n",
    "        print(bit)\n",
    "        guessed_d += bit\n",
    "\n",
    "    print(guessed_d)\n"
   ]
  },
  {
   "cell_type": "code",
   "execution_count": null,
   "metadata": {},
   "outputs": [],
   "source": [
    "n = len(w) // 2\n",
    "print(\"{0:b}\".format(d))\n",
    "timing_attack(d_length=n, c_range=c_range)\n"
   ]
  },
  {
   "cell_type": "code",
   "execution_count": null,
   "metadata": {},
   "outputs": [],
   "source": [
    "def my_fast_pow(c, N, exp_bin):\n",
    "    exp_len = len(exp_bin)\n",
    "    reductions_list = [-1 for _ in range(2 * exp_len)]\n",
    "    x = c\n",
    "    for j in range(1, exp_len):\n",
    "        x, r = mod_reduce(x**2, N)\n",
    "        reductions_list[2*j] = r\n",
    "        # print(f'{exp_bin[j]=}')\n",
    "        if exp_bin[j] == \"1\":\n",
    "            x, r = mod_reduce(x * c, N)\n",
    "            reductions_list[2*j + 1] = r\n",
    "    return reductions_list\n",
    "\n",
    "def find_lists_differ_last_bit(d):\n",
    "    pairs = []\n",
    "    for key, value in d.items():\n",
    "        for key_2, value_2 in d.items():\n",
    "            # print(f'{value[:-1]=} {value_2[:-1]=} {value[-1]=} {value_2[-1]=}')\n",
    "            if value[:-1] == value_2[:-1]:\n",
    "                # print(value[-1], value_2[-1])\n",
    "                    # and value[-1] != value_2[-1]:\n",
    "                pairs.append([key, value, key_2, value_2])\n",
    "    return pairs\n",
    "\n",
    "def find_message_with_given_prefix(match, N, exp_bin):\n",
    "    while True:\n",
    "        c = random.choice(c_range)\n",
    "        reductions = my_fast_pow(c, N, exp_bin)\n",
    "        if reductions[:-1] == match[:-1]:\n",
    "            print(reductions, match)\n"
   ]
  },
  {
   "cell_type": "code",
   "execution_count": 66,
   "metadata": {},
   "outputs": [
    {
     "name": "stdout",
     "output_type": "stream",
     "text": [
      "[-1, -1, 0, 1, 1, 1, 1, 0]\n"
     ]
    },
    {
     "ename": "KeyboardInterrupt",
     "evalue": "",
     "output_type": "error",
     "traceback": [
      "\u001b[0;31m---------------------------------------------------------------------------\u001b[0m",
      "\u001b[0;31mKeyboardInterrupt\u001b[0m                         Traceback (most recent call last)",
      "\u001b[0;32m<ipython-input-66-ab65f4ee8cdd>\u001b[0m in \u001b[0;36m<module>\u001b[0;34m\u001b[0m\n\u001b[1;32m     12\u001b[0m         \u001b[0mprint\u001b[0m\u001b[0;34m(\u001b[0m\u001b[0mreductions\u001b[0m\u001b[0;34m)\u001b[0m\u001b[0;34m\u001b[0m\u001b[0;34m\u001b[0m\u001b[0m\n\u001b[1;32m     13\u001b[0m         \u001b[0;31m# print(reductions[:-1])\u001b[0m\u001b[0;34m\u001b[0m\u001b[0;34m\u001b[0m\u001b[0;34m\u001b[0m\u001b[0m\n\u001b[0;32m---> 14\u001b[0;31m \u001b[0mpairs\u001b[0m \u001b[0;34m=\u001b[0m \u001b[0mfind_lists_differ_last_bit\u001b[0m\u001b[0;34m(\u001b[0m\u001b[0mmes_red\u001b[0m\u001b[0;34m)\u001b[0m\u001b[0;34m\u001b[0m\u001b[0;34m\u001b[0m\u001b[0m\n\u001b[0m\u001b[1;32m     15\u001b[0m \u001b[0;31m# print(mes_red)\u001b[0m\u001b[0;34m\u001b[0m\u001b[0;34m\u001b[0m\u001b[0;34m\u001b[0m\u001b[0m\n\u001b[1;32m     16\u001b[0m \u001b[0mprint\u001b[0m\u001b[0;34m(\u001b[0m\u001b[0mpairs\u001b[0m\u001b[0;34m)\u001b[0m\u001b[0;34m\u001b[0m\u001b[0;34m\u001b[0m\u001b[0m\n",
      "\u001b[0;32m<ipython-input-53-30158a426a0a>\u001b[0m in \u001b[0;36mfind_lists_differ_last_bit\u001b[0;34m(d)\u001b[0m\n\u001b[1;32m     17\u001b[0m         \u001b[0;32mfor\u001b[0m \u001b[0mkey_2\u001b[0m\u001b[0;34m,\u001b[0m \u001b[0mvalue_2\u001b[0m \u001b[0;32min\u001b[0m \u001b[0md\u001b[0m\u001b[0;34m.\u001b[0m\u001b[0mitems\u001b[0m\u001b[0;34m(\u001b[0m\u001b[0;34m)\u001b[0m\u001b[0;34m:\u001b[0m\u001b[0;34m\u001b[0m\u001b[0;34m\u001b[0m\u001b[0m\n\u001b[1;32m     18\u001b[0m             \u001b[0;31m# print(f'{value[:-1]=} {value_2[:-1]=} {value[-1]=} {value_2[-1]=}')\u001b[0m\u001b[0;34m\u001b[0m\u001b[0;34m\u001b[0m\u001b[0;34m\u001b[0m\u001b[0m\n\u001b[0;32m---> 19\u001b[0;31m             \u001b[0;32mif\u001b[0m \u001b[0mvalue\u001b[0m\u001b[0;34m[\u001b[0m\u001b[0;34m:\u001b[0m\u001b[0;34m-\u001b[0m\u001b[0;36m1\u001b[0m\u001b[0;34m]\u001b[0m \u001b[0;34m==\u001b[0m \u001b[0mvalue_2\u001b[0m\u001b[0;34m[\u001b[0m\u001b[0;34m:\u001b[0m\u001b[0;34m-\u001b[0m\u001b[0;36m1\u001b[0m\u001b[0;34m]\u001b[0m\u001b[0;34m:\u001b[0m\u001b[0;34m\u001b[0m\u001b[0;34m\u001b[0m\u001b[0m\n\u001b[0m\u001b[1;32m     20\u001b[0m                 \u001b[0;31m# print(value[-1], value_2[-1])\u001b[0m\u001b[0;34m\u001b[0m\u001b[0;34m\u001b[0m\u001b[0;34m\u001b[0m\u001b[0m\n\u001b[1;32m     21\u001b[0m                     \u001b[0;31m# and value[-1] != value_2[-1]:\u001b[0m\u001b[0;34m\u001b[0m\u001b[0;34m\u001b[0m\u001b[0;34m\u001b[0m\u001b[0m\n",
      "\u001b[0;31mKeyboardInterrupt\u001b[0m: "
     ]
    }
   ],
   "source": [
    "tries_number = 200000\n",
    "mes_red = {}\n",
    "y_tries, x_tries = [], []\n",
    "exp_bin = \"1111\"\n",
    "i = 0\n",
    "while i < tries_number:\n",
    "    i += 1\n",
    "    c = random.choice(c_range)\n",
    "    reductions = my_fast_pow(c, N, exp_bin)\n",
    "    mes_red[c] = reductions\n",
    "    if reductions[-1] == 0:\n",
    "        print(reductions)\n",
    "        # print(reductions[:-1])\n",
    "\n",
    "# pairs = find_lists_differ_last_bit(mes_red)\n",
    "# print(mes_red)\n",
    "# print(pairs)\n"
   ]
  },
  {
   "cell_type": "code",
   "execution_count": 72,
   "metadata": {},
   "outputs": [],
   "source": [
    "find_message_with_given_prefix([-1, -1, 0, 1, 1, 1, 1, 0], N, exp_bin)\n"
   ]
  },
  {
   "cell_type": "code",
   "execution_count": null,
   "metadata": {},
   "outputs": [],
   "source": []
  }
 ],
 "metadata": {
  "interpreter": {
   "hash": "916dbcbb3f70747c44a77c7bcd40155683ae19c65e1c03b4aa3499c5328201f1"
  },
  "kernelspec": {
   "display_name": "Python 3.8.10 64-bit",
   "language": "python",
   "name": "python3"
  },
  "language_info": {
   "codemirror_mode": {
    "name": "ipython",
    "version": 3
   },
   "file_extension": ".py",
   "mimetype": "text/x-python",
   "name": "python",
   "nbconvert_exporter": "python",
   "pygments_lexer": "ipython3",
   "version": "3.8.10"
  },
  "orig_nbformat": 4
 },
 "nbformat": 4,
 "nbformat_minor": 2
}

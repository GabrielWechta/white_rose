{
 "cells": [
  {
   "cell_type": "code",
   "execution_count": 114,
   "metadata": {},
   "outputs": [],
   "source": [
    "from sympy import randprime, mod_inverse\n",
    "from random import randint\n",
    "from math import gcd as bltin_gcd\n",
    "\n",
    "\n",
    "\n",
    "def GenModulus(w):\n",
    "    n = len(w) // 2\n",
    "    p = randprime(2**n, 2 ** (n + 1))\n",
    "    q = randprime(2**n, 2 ** (n + 1))\n",
    "    N = p * q\n",
    "    return N, p, q\n",
    "\n",
    "\n",
    "def GenRSA(w):\n",
    "    N, p, q = GenModulus(w)\n",
    "    m = (p - 1) * (q - 1)\n",
    "    e = 2**16 + 1\n",
    "    d = mod_inverse(e, m)\n",
    "    return N, e, d, p, q\n",
    "\n",
    "\n",
    "def enc(m, N, e):\n",
    "    return fast_pow(m, N, e)  # x ** e % N\n",
    "\n",
    "\n",
    "def dec(c, N, d):\n",
    "    return fast_pow(c, N, d)  # c ** d % N\n",
    "\n",
    "\n",
    "def fast_pow(c, N, exp):\n",
    "    exp_bin = \"{0:b}\".format(exp)\n",
    "    # print(exp_bin)\n",
    "    exp_len = len(exp_bin)\n",
    "    reductions = 0\n",
    "    h = 0\n",
    "    x = c\n",
    "    for j in range(1, exp_len):\n",
    "        x, r = mod_reduce(x**2, N)\n",
    "        reductions = reductions + r\n",
    "        if exp_bin[j] == \"1\":\n",
    "            x, r = mod_reduce(x * c, N)\n",
    "            reductions = reductions + r\n",
    "            h = h + 1\n",
    "    return x, h, reductions\n",
    "\n",
    "\n",
    "def mod_reduce(a, b):\n",
    "    reductions = 0\n",
    "    if a >= b:\n",
    "        a = a % b\n",
    "        reductions = 1\n",
    "    return a, reductions\n",
    "\n",
    "\n",
    "def generate_r(N):\n",
    "    r = 0\n",
    "    while bltin_gcd(r, N) != 1:\n",
    "        r = randint(2, N)\n",
    "    return r\n"
   ]
  },
  {
   "cell_type": "code",
   "execution_count": 115,
   "metadata": {},
   "outputs": [],
   "source": [
    "def calculate_q(message, e, N):\n",
    "\tr = generate_r(N)\n",
    "\tq = (hash(message) * pow(r, e)) % N\n",
    "\treturn q, r\n",
    "\n",
    "def calculate_t(q, d, N):\n",
    "\tt = pow(q, d, N)\n",
    "\treturn t\n",
    "\n"
   ]
  },
  {
   "cell_type": "code",
   "execution_count": 122,
   "metadata": {},
   "outputs": [],
   "source": [
    "def blind_signature(message):\n",
    "    w = \"111111111111111111\"\n",
    "    N, e, d, _, _ = GenRSA(w)\n",
    "    q, r = calculate_q(message=message, e=e, N=N)\n",
    "    t = calculate_t(q, d, N)\n",
    "    s = (t * pow(r, -1, N)) % N\n",
    "    print(f'{N=} {e=} {d=} {q=} {r=} {t=} {s=} ')\n",
    "    print(f'{hash(message)}, {pow(hash(message), d, N)}')\n",
    "    if s == pow(hash(message), d, N):\n",
    "        print(\"Blind signature confirmed.\")\n",
    "    else:\n",
    "        print(\"Blind signature failed.\")\n"
   ]
  },
  {
   "cell_type": "code",
   "execution_count": 150,
   "metadata": {},
   "outputs": [
    {
     "name": "stdout",
     "output_type": "stream",
     "text": [
      "N=660461 e=65537 d=279641 q=77836 r=624862 t=230752 s=297098 \n",
      "-6719863107555954857, 297098\n",
      "Blind signature confirmed.\n"
     ]
    }
   ],
   "source": [
    "blind_signature(\"Agata\")"
   ]
  },
  {
   "cell_type": "code",
   "execution_count": null,
   "metadata": {},
   "outputs": [],
   "source": []
  },
  {
   "cell_type": "code",
   "execution_count": null,
   "metadata": {},
   "outputs": [],
   "source": []
  }
 ],
 "metadata": {
  "interpreter": {
   "hash": "916dbcbb3f70747c44a77c7bcd40155683ae19c65e1c03b4aa3499c5328201f1"
  },
  "kernelspec": {
   "display_name": "Python 3.8.10 64-bit",
   "language": "python",
   "name": "python3"
  },
  "language_info": {
   "codemirror_mode": {
    "name": "ipython",
    "version": 3
   },
   "file_extension": ".py",
   "mimetype": "text/x-python",
   "name": "python",
   "nbconvert_exporter": "python",
   "pygments_lexer": "ipython3",
   "version": "3.8.10"
  },
  "orig_nbformat": 4
 },
 "nbformat": 4,
 "nbformat_minor": 2
}

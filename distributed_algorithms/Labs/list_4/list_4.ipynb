{
 "cells": [
  {
   "cell_type": "markdown",
   "source": [
    "Task 9\n",
    "Let $0 \\lt q \\lt \\frac{1}{2}$ represent the __probability of the adversary mining the next block__ and let this probability correspond to the fraction of computational power he/she possess. Let $n$ represent the number of confirmations (mined blocks) needed to consider a transaction as confirmed. Let $P(n, q)$ represent the probability that an adversary with power $q$ will mine a chain of blocks equal to or longer than the one mined by honest users at the moment when they have attached to the block containing the considered transaction $n$ blocks, or ever after."
   ],
   "metadata": {
    "collapsed": false
   }
  },
  {
   "cell_type": "code",
   "execution_count": 1,
   "outputs": [],
   "source": [],
   "metadata": {
    "collapsed": false,
    "ExecuteTime": {
     "start_time": "2023-04-28T11:48:26.138209Z",
     "end_time": "2023-04-28T11:48:26.180036Z"
    }
   }
  },
  {
   "cell_type": "markdown",
   "source": [
    "__a)__ Compare the formulas for $P(n, q)$ obtained by Nakamoto and Grunspan. In particular:\n",
    "− set $n = 1, 3, 6, 12, 24, 48$ and plot $P(n, q)$ depending on the value of $q$,\n",
    "− set the acceptable probability of adversary success $P(n, q) = 0.1\\%, 1\\%, 10\\%$ and draw graphs showing how to choose the value of $n$ depending on the value of $q$."
   ],
   "metadata": {
    "collapsed": false
   }
  },
  {
   "cell_type": "code",
   "execution_count": 1,
   "outputs": [],
   "source": [],
   "metadata": {
    "collapsed": false,
    "ExecuteTime": {
     "start_time": "2023-04-28T11:48:26.162808Z",
     "end_time": "2023-04-28T11:48:26.207022Z"
    }
   }
  },
  {
   "cell_type": "markdown",
   "source": [
    "__b)__ Implement a *double spending attack* simulator, which will enable experimental approximation of the probability $P(n, q)$ depending on the values of $n$ and $q$.\n",
    "\n",
    "__Hint__: design the experiment and repeat it multiple times (_Monte Carlo method_). <u>Carefully and thoroughly describe the idea and code of the simulator.</u>"
   ],
   "metadata": {
    "collapsed": false
   }
  },
  {
   "cell_type": "code",
   "execution_count": 1,
   "outputs": [],
   "source": [],
   "metadata": {
    "collapsed": false,
    "ExecuteTime": {
     "start_time": "2023-04-28T11:48:26.169064Z",
     "end_time": "2023-04-28T11:48:26.216631Z"
    }
   }
  },
  {
   "cell_type": "markdown",
   "source": [
    "__c)__ Compare the _simulator results_ to the _analytical results_ (__graphs__). If there are discrepancies, try to explain them."
   ],
   "metadata": {
    "collapsed": false
   }
  },
  {
   "cell_type": "code",
   "execution_count": 1,
   "outputs": [],
   "source": [],
   "metadata": {
    "collapsed": false,
    "ExecuteTime": {
     "start_time": "2023-04-28T11:48:26.215138Z",
     "end_time": "2023-04-28T11:48:26.217091Z"
    }
   }
  }
 ],
 "metadata": {
  "kernelspec": {
   "display_name": "Python 3",
   "language": "python",
   "name": "python3"
  },
  "language_info": {
   "codemirror_mode": {
    "name": "ipython",
    "version": 2
   },
   "file_extension": ".py",
   "mimetype": "text/x-python",
   "name": "python",
   "nbconvert_exporter": "python",
   "pygments_lexer": "ipython2",
   "version": "2.7.6"
  }
 },
 "nbformat": 4,
 "nbformat_minor": 0
}
